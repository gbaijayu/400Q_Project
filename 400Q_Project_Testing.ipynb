{
 "cells": [
  {
   "cell_type": "code",
   "execution_count": 2,
   "metadata": {},
   "outputs": [],
   "source": [
    "import pennylane as qml\n",
    "from pennylane import numpy as np\n",
    "\n",
    "import matplotlib.pyplot as plt\n"
   ]
  },
  {
   "cell_type": "code",
   "execution_count": 3,
   "metadata": {},
   "outputs": [
    {
     "ename": "ValueError",
     "evalue": "Cannot multiply Hamiltonian by <class 'pennylane.ops.qubit.non_parametric_ops.PauliZ'>",
     "output_type": "error",
     "traceback": [
      "\u001b[1;31m---------------------------------------------------------------------------\u001b[0m",
      "\u001b[1;31mValueError\u001b[0m                                Traceback (most recent call last)",
      "Cell \u001b[1;32mIn [3], line 18\u001b[0m\n\u001b[0;32m     16\u001b[0m     Hint \u001b[39m=\u001b[39m Hint \u001b[39m+\u001b[39m a[j]\u001b[39m*\u001b[39mqml\u001b[39m.\u001b[39mPauliX(wires\u001b[39m=\u001b[39mj)\n\u001b[0;32m     17\u001b[0m     \u001b[39mfor\u001b[39;00m k \u001b[39min\u001b[39;00m \u001b[39mrange\u001b[39m(j):\n\u001b[1;32m---> 18\u001b[0m         Hint \u001b[39m=\u001b[39m Hint \u001b[39m+\u001b[39m J[j][k] \u001b[39m*\u001b[39;49m qml\u001b[39m.\u001b[39;49mPauliZ(wires\u001b[39m=\u001b[39;49mj) \u001b[39m*\u001b[39;49m qml\u001b[39m.\u001b[39;49mPauliZ(wires\u001b[39m=\u001b[39;49mk)\n\u001b[0;32m     20\u001b[0m \u001b[39m# some fixed values (as specified in paper)\u001b[39;00m\n\u001b[0;32m     21\u001b[0m D \u001b[39m=\u001b[39m \u001b[39m3\u001b[39m\n",
      "File \u001b[1;32mc:\\Python310\\lib\\site-packages\\pennylane\\ops\\qubit\\hamiltonian.py:599\u001b[0m, in \u001b[0;36mHamiltonian.__mul__\u001b[1;34m(self, a)\u001b[0m\n\u001b[0;32m    596\u001b[0m     coeffs \u001b[39m=\u001b[39m qml\u001b[39m.\u001b[39mmath\u001b[39m.\u001b[39mmultiply(a, self_coeffs)\n\u001b[0;32m    597\u001b[0m     \u001b[39mreturn\u001b[39;00m qml\u001b[39m.\u001b[39mHamiltonian(coeffs, \u001b[39mself\u001b[39m\u001b[39m.\u001b[39mops\u001b[39m.\u001b[39mcopy())\n\u001b[1;32m--> 599\u001b[0m \u001b[39mraise\u001b[39;00m \u001b[39mValueError\u001b[39;00m(\u001b[39mf\u001b[39m\u001b[39m\"\u001b[39m\u001b[39mCannot multiply Hamiltonian by \u001b[39m\u001b[39m{\u001b[39;00m\u001b[39mtype\u001b[39m(a)\u001b[39m}\u001b[39;00m\u001b[39m\"\u001b[39m)\n",
      "\u001b[1;31mValueError\u001b[0m: Cannot multiply Hamiltonian by <class 'pennylane.ops.qubit.non_parametric_ops.PauliZ'>"
     ]
    }
   ],
   "source": [
    "dev = qml.device(\"default.qubit\", wires=6)\n",
    "# wires 0,1,2 are group B (input training data)\n",
    "# wires 3,4,5 are group A (store past data)\n",
    "\n",
    "# initialize a, J values (stays same throughout trainig)\n",
    "a = []\n",
    "J = np.zeros((6, 6))\n",
    "for i in range(6):\n",
    "  a.append( np.random.uniform(-1.0, 1.0) )\n",
    "  for j in range(i):\n",
    "    J[i][j] = np.random.uniform(-1.0, 1.0)\n",
    "\n",
    "# calculate Hint\n",
    "Hint = 0\n",
    "for j in range(6):\n",
    "    Hint = Hint + a[j]*qml.PauliX(wires=j)\n",
    "    for k in range(j):\n",
    "        Hint = Hint + J[j][k] * qml.PauliZ(wires=j) * qml.PauliZ(wires=k)\n",
    "\n",
    "# some fixed values (as specified in paper)\n",
    "D = 3\n",
    "tau = 0.2\n",
    "\n",
    "# Parameters\n",
    "alpha_array = np.zeros((D, 6))\n",
    "beta_array  = np.zeros((D, 6))\n",
    "gamma_array = np.zeros((D, 6))\n",
    "c = 1\n",
    "\n",
    "def encoding(x):\n",
    "    qml.RY(np.arccos(x), wires=0)\n",
    "    qml.RY(np.arccos(x), wires=1)\n",
    "    qml.RY(np.arccos(x), wires=2)\n",
    "\n",
    "def U1(alpha, beta, gamma, wire):\n",
    "     qml.RX(alpha, wires=wire)\n",
    "     qml.RZ(beta, wires=wire)\n",
    "     qml.RX(gamma, wires=wire)\n",
    "\n",
    "def evolution():\n",
    "    for i in range (D): # D = 3\n",
    "        # U1 rotations\n",
    "        for j in range(6):\n",
    "            U1(alpha_array[i][j], beta_array[i][j], gamma_array[i][j], j)\n",
    "\n",
    "        np.exp(-1.0*j * Hint * tau) # e^(-i Hint tau)\n",
    "\n",
    "@qml.qnode(dev)\n",
    "def pqc(x):\n",
    "    encoding(x)\n",
    "    evolution()\n",
    "    \n",
    "    return [qml.expval(qml.PauliZ(i)) for i in range(3)]\n",
    "\n",
    "def timestep_output(x):\n",
    "    result = pqc(x)\n",
    "    print(\"Output of pqc: \", result)\n",
    "    \n",
    "    y = c * np.average(result)\n",
    "    print(\"Output of each timestep: \", y)\n",
    "\n",
    "    return y\n",
    "\n",
    "timestep_output(0.7, 1)\n",
    "\n",
    "# print(qml.draw_mpl(pqc)(0.5, 1))\n",
    "# print(\"blahhhhhhhhh\", np.arccos(1))\n",
    "\n",
    "\n",
    "### random code ideas, unused\n",
    "\n",
    "# expval1 = qml.expval(qml.PauliZ(0))\n",
    "# expval2 = qml.expval(qml.PauliZ(1))\n",
    "# expval3 = qml.expval(qml.PauliZ(2))\n",
    "\n",
    "# avg = (expval1 + expval2 + expval3) / 3.0\n",
    "\n",
    "# print([expval1.eigvals(), expval2.eigvals(), expval3.eigvals()])\n",
    "\n",
    "# return c * avg\n",
    "# return expval1, expval2, expval3"
   ]
  },
  {
   "cell_type": "code",
   "execution_count": 4,
   "metadata": {},
   "outputs": [],
   "source": [
    "def generate_input(t_in):\n",
    "    t=8/199*t_in\n",
    "    if t>=0 and t<=1:\n",
    "        return -t+0.5\n",
    "    elif t>=1 and t<=2:\n",
    "        return t-1.5\n",
    "    elif t>=2 and t<=3:\n",
    "        return -t+2.5\n",
    "    else:\n",
    "        return t-3.5"
   ]
  }
 ],
 "metadata": {
  "kernelspec": {
   "display_name": "Python 3",
   "language": "python",
   "name": "python3"
  },
  "language_info": {
   "codemirror_mode": {
    "name": "ipython",
    "version": 3
   },
   "file_extension": ".py",
   "mimetype": "text/x-python",
   "name": "python",
   "nbconvert_exporter": "python",
   "pygments_lexer": "ipython3",
   "version": "3.10.8"
  },
  "orig_nbformat": 4,
  "vscode": {
   "interpreter": {
    "hash": "369f2c481f4da34e4445cda3fffd2e751bd1c4d706f27375911949ba6bb62e1c"
   }
  }
 },
 "nbformat": 4,
 "nbformat_minor": 2
}
