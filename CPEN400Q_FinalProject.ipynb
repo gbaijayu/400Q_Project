{
  "nbformat": 4,
  "nbformat_minor": 0,
  "metadata": {
    "colab": {
      "provenance": []
    },
    "kernelspec": {
      "name": "python3",
      "display_name": "Python 3"
    },
    "language_info": {
      "name": "python"
    }
  },
  "cells": [
    {
      "cell_type": "code",
      "execution_count": null,
      "metadata": {
        "colab": {
          "base_uri": "https://localhost:8080/"
        },
        "id": "6glPk7xSCeb0",
        "outputId": "375316cb-e3db-4dfd-9fb6-384520b50b40"
      },
      "outputs": [
        {
          "output_type": "stream",
          "name": "stdout",
          "text": [
            "Looking in indexes: https://pypi.org/simple, https://us-python.pkg.dev/colab-wheels/public/simple/\n",
            "Collecting pennylane\n",
            "  Downloading PennyLane-0.28.0-py3-none-any.whl (1.3 MB)\n",
            "\u001b[2K     \u001b[90m━━━━━━━━━━━━━━━━━━━━━━━━━━━━━━━━━━━━━━━━\u001b[0m \u001b[32m1.3/1.3 MB\u001b[0m \u001b[31m39.4 MB/s\u001b[0m eta \u001b[36m0:00:00\u001b[0m\n",
            "\u001b[?25hRequirement already satisfied: toml in /usr/local/lib/python3.8/dist-packages (from pennylane) (0.10.2)\n",
            "Requirement already satisfied: cachetools in /usr/local/lib/python3.8/dist-packages (from pennylane) (5.3.0)\n",
            "Requirement already satisfied: autograd in /usr/local/lib/python3.8/dist-packages (from pennylane) (1.5)\n",
            "Requirement already satisfied: numpy<1.24 in /usr/local/lib/python3.8/dist-packages (from pennylane) (1.22.4)\n",
            "Requirement already satisfied: appdirs in /usr/local/lib/python3.8/dist-packages (from pennylane) (1.4.4)\n",
            "Collecting semantic-version>=2.7\n",
            "  Downloading semantic_version-2.10.0-py2.py3-none-any.whl (15 kB)\n",
            "Requirement already satisfied: scipy in /usr/local/lib/python3.8/dist-packages (from pennylane) (1.7.3)\n",
            "Collecting pennylane-lightning>=0.28\n",
            "  Downloading PennyLane_Lightning-0.28.2-cp38-cp38-manylinux_2_17_x86_64.manylinux2014_x86_64.whl (15.3 MB)\n",
            "\u001b[2K     \u001b[90m━━━━━━━━━━━━━━━━━━━━━━━━━━━━━━━━━━━━━━━━\u001b[0m \u001b[32m15.3/15.3 MB\u001b[0m \u001b[31m60.8 MB/s\u001b[0m eta \u001b[36m0:00:00\u001b[0m\n",
            "\u001b[?25hCollecting retworkx\n",
            "  Downloading retworkx-0.12.1-py3-none-any.whl (10 kB)\n",
            "Requirement already satisfied: networkx in /usr/local/lib/python3.8/dist-packages (from pennylane) (3.0)\n",
            "Requirement already satisfied: requests in /usr/local/lib/python3.8/dist-packages (from pennylane) (2.25.1)\n",
            "Collecting autoray>=0.3.1\n",
            "  Downloading autoray-0.6.0-py3-none-any.whl (46 kB)\n",
            "\u001b[2K     \u001b[90m━━━━━━━━━━━━━━━━━━━━━━━━━━━━━━━━━━━━━━━━\u001b[0m \u001b[32m46.4/46.4 KB\u001b[0m \u001b[31m3.4 MB/s\u001b[0m eta \u001b[36m0:00:00\u001b[0m\n",
            "\u001b[?25hCollecting ninja\n",
            "  Downloading ninja-1.11.1-py2.py3-none-manylinux_2_12_x86_64.manylinux2010_x86_64.whl (145 kB)\n",
            "\u001b[2K     \u001b[90m━━━━━━━━━━━━━━━━━━━━━━━━━━━━━━━━━━━━━━\u001b[0m \u001b[32m146.0/146.0 KB\u001b[0m \u001b[31m10.1 MB/s\u001b[0m eta \u001b[36m0:00:00\u001b[0m\n",
            "\u001b[?25hRequirement already satisfied: future>=0.15.2 in /usr/local/lib/python3.8/dist-packages (from autograd->pennylane) (0.16.0)\n",
            "Requirement already satisfied: chardet<5,>=3.0.2 in /usr/local/lib/python3.8/dist-packages (from requests->pennylane) (4.0.0)\n",
            "Requirement already satisfied: certifi>=2017.4.17 in /usr/local/lib/python3.8/dist-packages (from requests->pennylane) (2022.12.7)\n",
            "Requirement already satisfied: idna<3,>=2.5 in /usr/local/lib/python3.8/dist-packages (from requests->pennylane) (2.10)\n",
            "Requirement already satisfied: urllib3<1.27,>=1.21.1 in /usr/local/lib/python3.8/dist-packages (from requests->pennylane) (1.24.3)\n",
            "Collecting rustworkx==0.12.1\n",
            "  Downloading rustworkx-0.12.1-cp38-cp38-manylinux_2_17_x86_64.manylinux2014_x86_64.whl (1.9 MB)\n",
            "\u001b[2K     \u001b[90m━━━━━━━━━━━━━━━━━━━━━━━━━━━━━━━━━━━━━━━━\u001b[0m \u001b[32m1.9/1.9 MB\u001b[0m \u001b[31m61.6 MB/s\u001b[0m eta \u001b[36m0:00:00\u001b[0m\n",
            "\u001b[?25hInstalling collected packages: ninja, semantic-version, rustworkx, autoray, retworkx, pennylane-lightning, pennylane\n",
            "Successfully installed autoray-0.6.0 ninja-1.11.1 pennylane-0.28.0 pennylane-lightning-0.28.2 retworkx-0.12.1 rustworkx-0.12.1 semantic-version-2.10.0\n",
            "Looking in indexes: https://pypi.org/simple, https://us-python.pkg.dev/colab-wheels/public/simple/\n",
            "Requirement already satisfied: matplotlib in /usr/local/lib/python3.8/dist-packages (3.5.3)\n",
            "Requirement already satisfied: fonttools>=4.22.0 in /usr/local/lib/python3.8/dist-packages (from matplotlib) (4.38.0)\n",
            "Requirement already satisfied: pyparsing>=2.2.1 in /usr/local/lib/python3.8/dist-packages (from matplotlib) (3.0.9)\n",
            "Requirement already satisfied: kiwisolver>=1.0.1 in /usr/local/lib/python3.8/dist-packages (from matplotlib) (1.4.4)\n",
            "Requirement already satisfied: numpy>=1.17 in /usr/local/lib/python3.8/dist-packages (from matplotlib) (1.22.4)\n",
            "Requirement already satisfied: python-dateutil>=2.7 in /usr/local/lib/python3.8/dist-packages (from matplotlib) (2.8.2)\n",
            "Requirement already satisfied: pillow>=6.2.0 in /usr/local/lib/python3.8/dist-packages (from matplotlib) (8.4.0)\n",
            "Requirement already satisfied: cycler>=0.10 in /usr/local/lib/python3.8/dist-packages (from matplotlib) (0.11.0)\n",
            "Requirement already satisfied: packaging>=20.0 in /usr/local/lib/python3.8/dist-packages (from matplotlib) (23.0)\n",
            "Requirement already satisfied: six>=1.5 in /usr/local/lib/python3.8/dist-packages (from python-dateutil>=2.7->matplotlib) (1.15.0)\n"
          ]
        }
      ],
      "source": [
        "!pip install pennylane\n",
        "import pennylane as qml\n",
        "from pennylane import numpy as np\n",
        "\n",
        "# !pip install numpy\n",
        "# import numpy as np\n",
        "\n",
        "!pip install matplotlib\n",
        "import matplotlib.pyplot as plt\n"
      ]
    },
    {
      "cell_type": "code",
      "source": [
        "dev = qml.device(\"default.qubit\", wires=6)\n",
        "# wires 0,1,2 are group B (input training data)\n",
        "# wires 3,4,5 are group A (store past data)\n",
        "\n",
        "# initialize a, J values (stays same throughout trainig)\n",
        "a = []\n",
        "J = np.zeros((6, 6))\n",
        "for i in range(6):\n",
        "  a.append( np.random.uniform(-1.0, 1.0) )\n",
        "  for j in range(i):\n",
        "    J[i][j] = np.random.uniform(-1.0, 1.0)\n",
        "\n",
        "# calculate Hint\n",
        "coeffs = []\n",
        "obs = []\n",
        "for j in range(6):\n",
        "    coeffs.append(a[j])\n",
        "    obs.append(qml.PauliX(j))\n",
        "    for k in range(j):\n",
        "      coeffs.append(J[j][k])\n",
        "      obs.append(qml.PauliZ(j) @ qml.PauliZ(k))\n",
        "Hint = qml.Hamiltonian(coeffs, obs) "
      ],
      "metadata": {
        "id": "lqbn2jUqsPc_"
      },
      "execution_count": null,
      "outputs": []
    },
    {
      "cell_type": "code",
      "source": [
        "print(Hint)"
      ],
      "metadata": {
        "colab": {
          "base_uri": "https://localhost:8080/"
        },
        "id": "k-m9Tfjosap4",
        "outputId": "0e89b59a-4298-41a4-b572-a2ff5bb38cae"
      },
      "execution_count": null,
      "outputs": [
        {
          "output_type": "stream",
          "name": "stdout",
          "text": [
            "  (-0.8624149562952153) [X2]\n",
            "+ (-0.5806191638711247) [X5]\n",
            "+ (0.03912190551998407) [X0]\n",
            "+ (0.15292425202334559) [X3]\n",
            "+ (0.2755792898046914) [X4]\n",
            "+ (0.6524436028335183) [X1]\n",
            "+ (-0.9146341058312872) [Z3 Z0]\n",
            "+ (-0.6121320349292356) [Z5 Z1]\n",
            "+ (-0.5149357220224864) [Z5 Z2]\n",
            "+ (-0.25190906475389907) [Z2 Z0]\n",
            "+ (-0.20526690956714289) [Z2 Z1]\n",
            "+ (-0.09178332046666715) [Z5 Z4]\n",
            "+ (-0.08355895819713077) [Z5 Z3]\n",
            "+ (0.021333657797248273) [Z3 Z2]\n",
            "+ (0.06317771577875919) [Z3 Z1]\n",
            "+ (0.37804313681765445) [Z4 Z3]\n",
            "+ (0.49095731841255774) [Z4 Z0]\n",
            "+ (0.49414293268580867) [Z1 Z0]\n",
            "+ (0.6148612863693994) [Z4 Z1]\n",
            "+ (0.8093863636262801) [Z4 Z2]\n",
            "+ (0.8722099024598293) [Z5 Z0]\n"
          ]
        }
      ]
    },
    {
      "cell_type": "code",
      "source": [],
      "metadata": {
        "colab": {
          "base_uri": "https://localhost:8080/",
          "height": 316
        },
        "id": "wBkKeaUrsjS4",
        "outputId": "f8bdaf73-bedd-4a67-fb50-2810410eb71d"
      },
      "execution_count": null,
      "outputs": [
        {
          "output_type": "error",
          "ename": "SparseMatrixUndefinedError",
          "evalue": "ignored",
          "traceback": [
            "\u001b[0;31m---------------------------------------------------------------------------\u001b[0m",
            "\u001b[0;31mSparseMatrixUndefinedError\u001b[0m                Traceback (most recent call last)",
            "\u001b[0;32m<ipython-input-4-7ebd27dba7fb>\u001b[0m in \u001b[0;36m<module>\u001b[0;34m\u001b[0m\n\u001b[0;32m----> 1\u001b[0;31m \u001b[0mHint\u001b[0m\u001b[0;34m.\u001b[0m\u001b[0msparse_matrix\u001b[0m\u001b[0;34m(\u001b[0m\u001b[0;34m)\u001b[0m\u001b[0;34m.\u001b[0m\u001b[0mtoarray\u001b[0m\u001b[0;34m(\u001b[0m\u001b[0;34m)\u001b[0m\u001b[0;34m\u001b[0m\u001b[0;34m\u001b[0m\u001b[0m\n\u001b[0m",
            "\u001b[0;32m/usr/local/lib/python3.8/dist-packages/pennylane/operation.py\u001b[0m in \u001b[0;36msparse_matrix\u001b[0;34m(self, wire_order)\u001b[0m\n\u001b[1;32m    647\u001b[0m \u001b[0;34m\u001b[0m\u001b[0m\n\u001b[1;32m    648\u001b[0m         \"\"\"\n\u001b[0;32m--> 649\u001b[0;31m         canonical_sparse_matrix = self.compute_sparse_matrix(\n\u001b[0m\u001b[1;32m    650\u001b[0m             \u001b[0;34m*\u001b[0m\u001b[0mself\u001b[0m\u001b[0;34m.\u001b[0m\u001b[0mparameters\u001b[0m\u001b[0;34m,\u001b[0m \u001b[0;34m**\u001b[0m\u001b[0mself\u001b[0m\u001b[0;34m.\u001b[0m\u001b[0mhyperparameters\u001b[0m\u001b[0;34m\u001b[0m\u001b[0;34m\u001b[0m\u001b[0m\n\u001b[1;32m    651\u001b[0m         )\n",
            "\u001b[0;32m/usr/local/lib/python3.8/dist-packages/pennylane/operation.py\u001b[0m in \u001b[0;36mcompute_sparse_matrix\u001b[0;34m(*params, **hyperparams)\u001b[0m\n\u001b[1;32m    627\u001b[0m             \u001b[0mscipy\u001b[0m\u001b[0;34m.\u001b[0m\u001b[0msparse\u001b[0m\u001b[0;34m.\u001b[0m\u001b[0m_csr\u001b[0m\u001b[0;34m.\u001b[0m\u001b[0mcsr_matrix\u001b[0m\u001b[0;34m:\u001b[0m \u001b[0msparse\u001b[0m \u001b[0mmatrix\u001b[0m \u001b[0mrepresentation\u001b[0m\u001b[0;34m\u001b[0m\u001b[0;34m\u001b[0m\u001b[0m\n\u001b[1;32m    628\u001b[0m         \"\"\"\n\u001b[0;32m--> 629\u001b[0;31m         \u001b[0;32mraise\u001b[0m \u001b[0mSparseMatrixUndefinedError\u001b[0m\u001b[0;34m\u001b[0m\u001b[0;34m\u001b[0m\u001b[0m\n\u001b[0m\u001b[1;32m    630\u001b[0m \u001b[0;34m\u001b[0m\u001b[0m\n\u001b[1;32m    631\u001b[0m     \u001b[0;32mdef\u001b[0m \u001b[0msparse_matrix\u001b[0m\u001b[0;34m(\u001b[0m\u001b[0mself\u001b[0m\u001b[0;34m,\u001b[0m \u001b[0mwire_order\u001b[0m\u001b[0;34m=\u001b[0m\u001b[0;32mNone\u001b[0m\u001b[0;34m)\u001b[0m\u001b[0;34m:\u001b[0m\u001b[0;34m\u001b[0m\u001b[0;34m\u001b[0m\u001b[0m\n",
            "\u001b[0;31mSparseMatrixUndefinedError\u001b[0m: "
          ]
        }
      ]
    },
    {
      "cell_type": "code",
      "source": [
        "dev = qml.device(\"default.qubit\", wires=6)\n",
        "# wires 0,1,2 are group B (input training data)\n",
        "# wires 3,4,5 are group A (store past data)\n",
        "\n",
        "# initialize a, J values (stays same throughout trainig)\n",
        "a = []\n",
        "J = np.zeros((6, 6))\n",
        "for i in range(6):\n",
        "  a.append( np.random.uniform(-1.0, 1.0) )\n",
        "  for j in range(i):\n",
        "    J[i][j] = np.random.uniform(-1.0, 1.0)\n",
        "\n",
        "# calculate Hint\n",
        "coeffs = []\n",
        "obs = []\n",
        "for j in range(6):\n",
        "    coeffs.append(a[j])\n",
        "    obs.append(qml.PauliX(j))\n",
        "    for k in range(j):\n",
        "      coeffs.append(J[j][k])\n",
        "      obs.append(qml.PauliZ(j) @ qml.PauliZ(k))\n",
        "Hint = qml.Hamiltonian(coeffs, obs) \n",
        "# some fixed values (as specified in paper)\n",
        "D = 3\n",
        "tau = 0.2\n",
        "\n",
        "# Parameters\n",
        "# alpha_array = np.zeros((D, 6))\n",
        "# beta_array  = np.zeros((D, 6))\n",
        "# gamma_array = np.zeros((D, 6))\n",
        "alpha_array = np.random.rand(D, 6)\n",
        "beta_array  = np.random.rand(D, 6)\n",
        "gamma_array = np.random.rand(D, 6)\n",
        "c = 1.0\n",
        "\n",
        "def encoding(x):\n",
        "    qml.RY(np.arccos(x), wires=0)\n",
        "    qml.RY(np.arccos(x), wires=1)\n",
        "    qml.RY(np.arccos(x), wires=2)\n",
        "\n",
        "def U1(alpha, beta, gamma, wire):\n",
        "     qml.RX(alpha, wires=wire)\n",
        "     qml.RZ(beta, wires=wire)\n",
        "     qml.RX(gamma, wires=wire)\n",
        "\n",
        "def evolution(alpha_array, beta_array, gamma_array):\n",
        "    for i in range (D): # D = 3\n",
        "        # U1 rotations\n",
        "        for j in range(6):\n",
        "            U1(alpha_array[i][j], beta_array[i][j], gamma_array[i][j], j)\n",
        "\n",
        "        # np.exp(-1.0*j * Hint * tau) # e^(-i Hint tau)\n",
        "        #change third paramter (larger is more accurate)\n",
        "        qml.ApproxTimeEvolution(Hint, tau, 5)\n",
        "\n",
        "@qml.qnode(dev)\n",
        "def pqc(x, alpha_array, beta_array, gamma_array):\n",
        "    encoding(x)\n",
        "    evolution(alpha_array, beta_array, gamma_array)\n",
        "    \n",
        "    return [qml.expval(qml.PauliZ(i)) for i in range(3)]\n",
        "\n",
        "#def timestep_output(x, weights):\n",
        "def timestep_output(x, alpha_array, beta_array, gamma_array):\n",
        "    \n",
        "    # print(qml.draw_mpl(pqc)(0.5))\n",
        "    #result = pqc(x, weights[0], weights[1], weights[2])\n",
        "    result = pqc(x, alpha_array, beta_array, gamma_array)\n",
        "    # print(\"Output of pqc: \", result)\n",
        "    # print(\"Type of pqc: \", result[0])\n",
        "    \n",
        "    # y = c * np.average(result)\n",
        "    y = c * (( result[0] + result[1] + result[2] ) / 3.0)\n",
        "    # print(\"Output of each timestep: \", y)\n",
        "\n",
        "    return y\n",
        "\n",
        "#timestep_output(0.7, [alpha_array, beta_array, gamma_array, c])\n",
        "timestep_output(0.7, alpha_array, beta_array, gamma_array)\n",
        "print(qml.draw_mpl(pqc)(0.5, alpha_array, beta_array, gamma_array))\n",
        "\n",
        "# print(qml.draw_mpl(pqc)(0.5, 1))\n",
        "# print(\"blahhhhhhhhh\", np.arccos(1))\n",
        "\n",
        "\n",
        "### random code ideas, unused\n",
        "\n",
        "# expval1 = qml.expval(qml.PauliZ(0))\n",
        "# expval2 = qml.expval(qml.PauliZ(1))\n",
        "# expval3 = qml.expval(qml.PauliZ(2))\n",
        "\n",
        "# avg = (expval1 + expval2 + expval3) / 3.0\n",
        "\n",
        "# print([expval1.eigvals(), expval2.eigvals(), expval3.eigvals()])\n",
        "\n",
        "# return c * avg\n",
        "# return expval1, expval2, expval3"
      ],
      "metadata": {
        "id": "mPBBhZUvDXz1",
        "colab": {
          "base_uri": "https://localhost:8080/",
          "height": 553
        },
        "outputId": "92018a61-7f9a-4cf8-f53b-ad682ce562ae"
      },
      "execution_count": null,
      "outputs": [
        {
          "output_type": "stream",
          "name": "stdout",
          "text": [
            "(<Figure size 1152x504 with 1 Axes>, <Axes:>)\n"
          ]
        },
        {
          "output_type": "display_data",
          "data": {
            "text/plain": [
              "<Figure size 1152x504 with 1 Axes>"
            ],
            "image/png": "[encoded data removed]"
          },
          "metadata": {}
        }
      ]
    },
    {
      "cell_type": "code",
      "source": [
        "timestep_output(0.7, [alpha_array, beta_array, gamma_array, c])"
      ],
      "metadata": {
        "colab": {
          "base_uri": "https://localhost:8080/"
        },
        "id": "1Qyy_PAMvSIq",
        "outputId": "30c8d4ac-a48e-4f7e-f1c7-77143fefdcb1"
      },
      "execution_count": null,
      "outputs": [
        {
          "output_type": "execute_result",
          "data": {
            "text/plain": [
              "tensor(0.2723061, requires_grad=True)"
            ]
          },
          "metadata": {},
          "execution_count": 17
        }
      ]
    },
    {
      "cell_type": "code",
      "source": [
        "len(pqc.qtape.trainable_params)"
      ],
      "metadata": {
        "colab": {
          "base_uri": "https://localhost:8080/"
        },
        "id": "8DxSFn92tvZ0",
        "outputId": "3594c444-2aa4-4a9f-f990-3ac83798ca8c"
      },
      "execution_count": null,
      "outputs": [
        {
          "output_type": "execute_result",
          "data": {
            "text/plain": [
              "99"
            ]
          },
          "metadata": {},
          "execution_count": 11
        }
      ]
    },
    {
      "cell_type": "code",
      "source": [
        "alpha_array"
      ],
      "metadata": {
        "colab": {
          "base_uri": "https://localhost:8080/"
        },
        "id": "dpGhuYxCKwG8",
        "outputId": "3b8d346d-1d8f-495f-ecc3-b6fe404f8e04"
      },
      "execution_count": null,
      "outputs": [
        {
          "output_type": "execute_result",
          "data": {
            "text/plain": [
              "tensor([[0.26998174, 0.02886986, 0.29501369, 0.22941066, 0.34502591,\n",
              "         0.60700777],\n",
              "        [0.39825945, 0.41736862, 0.82289055, 0.99347846, 0.15666884,\n",
              "         0.98427225],\n",
              "        [0.99658212, 0.89925161, 0.6368892 , 0.02120434, 0.08892392,\n",
              "         0.70699909]], requires_grad=True)"
            ]
          },
          "metadata": {},
          "execution_count": 7
        }
      ]
    },
    {
      "cell_type": "code",
      "source": [],
      "metadata": {
        "id": "DUsWjAiktHRm"
      },
      "execution_count": null,
      "outputs": []
    },
    {
      "cell_type": "code",
      "source": [
        "def generate_input(t_in):\n",
        "    t=8/199*t_in\n",
        "    if t>=0 and t<=1:\n",
        "        return -t+0.5\n",
        "    elif t>=1 and t<=2:\n",
        "        return t-1.5\n",
        "    elif t>=2 and t<=3:\n",
        "        return -t+2.5\n",
        "    else:\n",
        "        return t-3.5\n",
        "\n",
        "train_inputs = []\n",
        "train_expected_outputs = []\n",
        "\n",
        "for i in range(20):\n",
        "    train_inputs.append(generate_input(i))\n",
        "    train_expected_outputs.append(generate_input(i+1))\n",
        "\n",
        "print(train_inputs)\n",
        "print(train_expected_outputs)\n",
        "plt.plot(train_expected_outputs)"
      ],
      "metadata": {
        "id": "TaDLHRdPFsoc",
        "colab": {
          "base_uri": "https://localhost:8080/",
          "height": 338
        },
        "outputId": "5dd25e20-c398-478b-ad55-39d0e5aa2438"
      },
      "execution_count": null,
      "outputs": [
        {
          "output_type": "stream",
          "name": "stdout",
          "text": [
            "[0.5, 0.45979899497487436, 0.41959798994974873, 0.37939698492462315, 0.33919597989949746, 0.2989949748743719, 0.25879396984924624, 0.2185929648241206, 0.17839195979899497, 0.13819095477386933, 0.0979899497487437, 0.05778894472361806, 0.017587939698492483, -0.022613065326633208, -0.06281407035175879, -0.10301507537688448, -0.14321608040201006, -0.18341708542713564, -0.22361809045226133, -0.2638190954773869]\n",
            "[0.45979899497487436, 0.41959798994974873, 0.37939698492462315, 0.33919597989949746, 0.2989949748743719, 0.25879396984924624, 0.2185929648241206, 0.17839195979899497, 0.13819095477386933, 0.0979899497487437, 0.05778894472361806, 0.017587939698492483, -0.022613065326633208, -0.06281407035175879, -0.10301507537688448, -0.14321608040201006, -0.18341708542713564, -0.22361809045226133, -0.2638190954773869, -0.3040201005025126]\n"
          ]
        },
        {
          "output_type": "execute_result",
          "data": {
            "text/plain": [
              "[<matplotlib.lines.Line2D at 0x7f89ef565b80>]"
            ]
          },
          "metadata": {},
          "execution_count": 29
        },
        {
          "output_type": "display_data",
          "data": {
            "text/plain": [
              "<Figure size 432x288 with 1 Axes>"
            ],
            "image/png": "[encoded data removed]"
          },
          "metadata": {
            "needs_background": "light"
          }
        }
      ]
    },
    {
      "cell_type": "code",
      "source": [
        "### Lecture 8 Demo helper functions\n",
        "\n",
        "#def make_predictions(data, model, weights):\n",
        "def make_predictions(data, model, alpha_array, beta_array, gamma_array):\n",
        "\n",
        "    \"\"\"Predict the labels of all points in a data set for a given model.\n",
        "    \n",
        "    Args:\n",
        "        data (array[float]): Input data. A list with shape N x 2\n",
        "            representing points on a 2D plane.\n",
        "        model (qml.QNode): A QNode whose output expectation value will be\n",
        "            used to make predictions of the labels of data.\n",
        "        weights (array[float]): The trainable model parameters for the QNode. \n",
        "            \n",
        "    Returns:\n",
        "        array[int]: The array of predictions for each data point made by \n",
        "        the model QNode. \n",
        "    \"\"\"\n",
        "    preds = []\n",
        "    \n",
        "    for idx in range(len(data)):\n",
        "        estimated_expval = model(data[idx], alpha_array, beta_array, gamma_array)\n",
        "        \n",
        "        preds.append(estimated_expval)\n",
        "        #if estimated_expval > 0:\n",
        "        #    preds.append(1)\n",
        "        #else:\n",
        "        #    preds.append(-1)\n",
        "            \n",
        "    return preds\n",
        "\n",
        "def make_loss_function(data, labels, model):\n",
        "\n",
        "    #def loss(weights):\n",
        "    def loss(alpha_array, beta_array, gamma_array):\n",
        "        loss_sum = 0.0\n",
        "\n",
        "        for idx in range(len(data)):\n",
        "            point = data[idx]\n",
        "            true_expval = labels[idx]\n",
        "\n",
        "            #estimated_expval = model(point, weights)\n",
        "            estimated_expval = model(point, alpha_array, beta_array, gamma_array)\n",
        "            loss_sum += (estimated_expval - true_expval) ** 2\n",
        "            # Bobby's change - Not working lol\n",
        "            #loss_sum += (estimated_expval - true_expval)\n",
        "\n",
        "        return loss_sum / len(data)\n",
        "    \n",
        "    return loss\n",
        "\n",
        "def compute_accuracy(predictions, true_labels):\n",
        "    \"\"\"Compute the accuracy of our predictions.\n",
        "    \n",
        "    Args:\n",
        "        predictions (array[int]): Predicted values to \n",
        "        true_labels (array[int]): Integers identifying the class/label of \n",
        "            each data point.\n",
        "    \n",
        "    Returns:\n",
        "        float: Accuracy of the predictions, returned as a percentage.\n",
        "    \"\"\"    \n",
        "    n_samples = len(predictions)\n",
        "    \n",
        "    return np.sum(\n",
        "        [predictions[x] == true_labels[x] for x in range(n_samples)\n",
        "    ]) / n_samples"
      ],
      "metadata": {
        "id": "xh0VDpMmk19R"
      },
      "execution_count": null,
      "outputs": []
    },
    {
      "cell_type": "code",
      "source": [
        "loss = make_loss_function(train_inputs, train_expected_outputs, timestep_output)"
      ],
      "metadata": {
        "id": "NZVdxjTAkjqe"
      },
      "execution_count": null,
      "outputs": []
    },
    {
      "cell_type": "code",
      "source": [
        "gradient_function = qml.grad(timestep_output)"
      ],
      "metadata": {
        "id": "USugvkQTu6JY"
      },
      "execution_count": null,
      "outputs": []
    },
    {
      "cell_type": "code",
      "source": [
        "#tune this parameter!\n",
        "opt = qml.GradientDescentOptimizer(stepsize=0.1)\n",
        "\n",
        "n_its = 100\n",
        "\n",
        "loss_track = []\n",
        "\n",
        "# weights = [alpha_array, beta_array, gamma_array, c]\n",
        "# weights = np.array([alpha_array, beta_array, gamma_array, c], requires_grad=True).tolist()\n",
        "\n",
        "for it in range(n_its):\n",
        "    #weights, _loss = opt.step_and_cost(loss, weights)\n",
        "    # Add c as a trainable parameter\n",
        "    (alpha_array, beta_array, gamma_array, c), _loss = opt.step_and_cost(loss, alpha_array, beta_array, gamma_array, c)\n",
        "\n",
        "    if it % 5 == 0:\n",
        "        #our_preds = make_predictions(train_inputs, timestep_output, weights)\n",
        "        our_preds = make_predictions(train_inputs, timestep_output, alpha_array, beta_array, gamma_array)\n",
        "        print(f\"Loss at iteration {it} = {_loss}  Accuracy = {compute_accuracy(our_preds, train_expected_outputs)}\")\n",
        "    loss_track.append(_loss)"
      ],
      "metadata": {
        "colab": {
          "base_uri": "https://localhost:8080/"
        },
        "id": "XO1nioiRkf51",
        "outputId": "2a886f33-cd02-48c3-e26c-b502ed308547"
      },
      "execution_count": null,
      "outputs": [
        {
          "output_type": "stream",
          "name": "stdout",
          "text": [
            "Loss at iteration 0 = 0.4574551903399513  Accuracy = 0.0\n",
            "Loss at iteration 5 = 0.27203435164099127  Accuracy = 0.0\n",
            "Loss at iteration 10 = 0.1450830129977006  Accuracy = 0.0\n",
            "Loss at iteration 15 = 0.07812632460045028  Accuracy = 0.0\n",
            "Loss at iteration 20 = 0.04889267773753506  Accuracy = 0.0\n",
            "Loss at iteration 25 = 0.036424973368228655  Accuracy = 0.0\n",
            "Loss at iteration 30 = 0.030197412879235136  Accuracy = 0.0\n",
            "Loss at iteration 35 = 0.026250247432394725  Accuracy = 0.0\n",
            "Loss at iteration 40 = 0.023255243644622163  Accuracy = 0.0\n",
            "Loss at iteration 45 = 0.020771376632431806  Accuracy = 0.0\n",
            "Loss at iteration 50 = 0.01863778433213147  Accuracy = 0.0\n",
            "Loss at iteration 55 = 0.016781276373167685  Accuracy = 0.0\n",
            "Loss at iteration 60 = 0.015157600308009236  Accuracy = 0.0\n",
            "Loss at iteration 65 = 0.013733730911329917  Accuracy = 0.0\n",
            "Loss at iteration 70 = 0.012482436005446752  Accuracy = 0.0\n",
            "Loss at iteration 75 = 0.011380460609405684  Accuracy = 0.0\n",
            "Loss at iteration 80 = 0.010407764794282622  Accuracy = 0.0\n",
            "Loss at iteration 85 = 0.009547068979225089  Accuracy = 0.0\n",
            "Loss at iteration 90 = 0.008783496902294506  Accuracy = 0.0\n",
            "Loss at iteration 95 = 0.008104261837347035  Accuracy = 0.0\n"
          ]
        }
      ]
    },
    {
      "cell_type": "code",
      "source": [
        "plt.plot(train_expected_outputs)\n",
        "plt.plot(our_preds)"
      ],
      "metadata": {
        "colab": {
          "base_uri": "https://localhost:8080/",
          "height": 283
        },
        "id": "Voh3wClz1TFv",
        "outputId": "11fd8886-fb72-43c3-8c15-05cc659b7b90"
      },
      "execution_count": null,
      "outputs": [
        {
          "output_type": "execute_result",
          "data": {
            "text/plain": [
              "[<matplotlib.lines.Line2D at 0x7f89f8b73be0>]"
            ]
          },
          "metadata": {},
          "execution_count": 33
        },
        {
          "output_type": "display_data",
          "data": {
            "text/plain": [
              "<Figure size 432x288 with 1 Axes>"
            ],
            "image/png": "[encoded data removed]"
          },
          "metadata": {
            "needs_background": "light"
          }
        }
      ]
    },
    {
      "cell_type": "code",
      "source": [
        "weights"
      ],
      "metadata": {
        "id": "sA2sM63utRE1"
      },
      "execution_count": null,
      "outputs": []
    },
    {
      "cell_type": "code",
      "source": [
        "# weights = np.random.normal(size=(2, 3), requires_grad=True)\n",
        "weights = np.array([alpha_array, beta_array, gamma_array, c], requires_grad=True).tolist()\n",
        "weights"
      ],
      "metadata": {
        "id": "Z5nOMbAMtZ8Z"
      },
      "execution_count": null,
      "outputs": []
    }
  ]
}