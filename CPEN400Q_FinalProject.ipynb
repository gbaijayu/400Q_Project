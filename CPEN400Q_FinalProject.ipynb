{
  "nbformat": 4,
  "nbformat_minor": 0,
  "metadata": {
    "colab": {
      "provenance": [],
      "toc_visible": true
    },
    "kernelspec": {
      "name": "python3",
      "display_name": "Python 3"
    },
    "language_info": {
      "name": "python"
    }
  },
  "cells": [
    {
      "cell_type": "code",
      "execution_count": null,
      "metadata": {
        "colab": {
          "base_uri": "https://localhost:8080/"
        },
        "id": "6glPk7xSCeb0",
        "outputId": "9ac36ed6-e1cf-4509-9643-26b4d7fced7f"
      },
      "outputs": [
        {
          "output_type": "stream",
          "name": "stdout",
          "text": [
            "Looking in indexes: https://pypi.org/simple, https://us-python.pkg.dev/colab-wheels/public/simple/\n",
            "Requirement already satisfied: pennylane in /usr/local/lib/python3.8/dist-packages (0.28.0)\n",
            "Requirement already satisfied: pennylane-lightning>=0.28 in /usr/local/lib/python3.8/dist-packages (from pennylane) (0.28.2)\n",
            "Requirement already satisfied: autoray>=0.3.1 in /usr/local/lib/python3.8/dist-packages (from pennylane) (0.6.0)\n",
            "Requirement already satisfied: autograd in /usr/local/lib/python3.8/dist-packages (from pennylane) (1.5)\n",
            "Requirement already satisfied: toml in /usr/local/lib/python3.8/dist-packages (from pennylane) (0.10.2)\n",
            "Requirement already satisfied: scipy in /usr/local/lib/python3.8/dist-packages (from pennylane) (1.7.3)\n",
            "Requirement already satisfied: retworkx in /usr/local/lib/python3.8/dist-packages (from pennylane) (0.12.1)\n",
            "Requirement already satisfied: semantic-version>=2.7 in /usr/local/lib/python3.8/dist-packages (from pennylane) (2.10.0)\n",
            "Requirement already satisfied: cachetools in /usr/local/lib/python3.8/dist-packages (from pennylane) (5.3.0)\n",
            "Requirement already satisfied: requests in /usr/local/lib/python3.8/dist-packages (from pennylane) (2.25.1)\n",
            "Requirement already satisfied: numpy<1.24 in /usr/local/lib/python3.8/dist-packages (from pennylane) (1.21.6)\n",
            "Requirement already satisfied: appdirs in /usr/local/lib/python3.8/dist-packages (from pennylane) (1.4.4)\n",
            "Requirement already satisfied: networkx in /usr/local/lib/python3.8/dist-packages (from pennylane) (3.0)\n",
            "Requirement already satisfied: ninja in /usr/local/lib/python3.8/dist-packages (from pennylane-lightning>=0.28->pennylane) (1.11.1)\n",
            "Requirement already satisfied: future>=0.15.2 in /usr/local/lib/python3.8/dist-packages (from autograd->pennylane) (0.16.0)\n",
            "Requirement already satisfied: urllib3<1.27,>=1.21.1 in /usr/local/lib/python3.8/dist-packages (from requests->pennylane) (1.24.3)\n",
            "Requirement already satisfied: certifi>=2017.4.17 in /usr/local/lib/python3.8/dist-packages (from requests->pennylane) (2022.12.7)\n",
            "Requirement already satisfied: idna<3,>=2.5 in /usr/local/lib/python3.8/dist-packages (from requests->pennylane) (2.10)\n",
            "Requirement already satisfied: chardet<5,>=3.0.2 in /usr/local/lib/python3.8/dist-packages (from requests->pennylane) (4.0.0)\n",
            "Requirement already satisfied: rustworkx==0.12.1 in /usr/local/lib/python3.8/dist-packages (from retworkx->pennylane) (0.12.1)\n",
            "Looking in indexes: https://pypi.org/simple, https://us-python.pkg.dev/colab-wheels/public/simple/\n",
            "Requirement already satisfied: matplotlib in /usr/local/lib/python3.8/dist-packages (3.2.2)\n",
            "Requirement already satisfied: numpy>=1.11 in /usr/local/lib/python3.8/dist-packages (from matplotlib) (1.21.6)\n",
            "Requirement already satisfied: python-dateutil>=2.1 in /usr/local/lib/python3.8/dist-packages (from matplotlib) (2.8.2)\n",
            "Requirement already satisfied: kiwisolver>=1.0.1 in /usr/local/lib/python3.8/dist-packages (from matplotlib) (1.4.4)\n",
            "Requirement already satisfied: pyparsing!=2.0.4,!=2.1.2,!=2.1.6,>=2.0.1 in /usr/local/lib/python3.8/dist-packages (from matplotlib) (3.0.9)\n",
            "Requirement already satisfied: cycler>=0.10 in /usr/local/lib/python3.8/dist-packages (from matplotlib) (0.11.0)\n",
            "Requirement already satisfied: six>=1.5 in /usr/local/lib/python3.8/dist-packages (from python-dateutil>=2.1->matplotlib) (1.15.0)\n"
          ]
        }
      ],
      "source": [
        "!pip install pennylane\n",
        "import pennylane as qml\n",
        "from pennylane import numpy as np\n",
        "\n",
        "# !pip install numpy\n",
        "# import numpy as np\n",
        "\n",
        "!pip install matplotlib\n",
        "import matplotlib.pyplot as plt\n"
      ]
    },
    {
      "cell_type": "code",
      "source": [
        "dev = qml.device(\"default.qubit\", wires=6)\n",
        "# wires 0,1,2 are group B (input training data)\n",
        "# wires 3,4,5 are group A (store past data)\n",
        "\n",
        "# initialize a, J values (stays same throughout trainig)\n",
        "a = []\n",
        "J = np.zeros((6, 6))\n",
        "for i in range(6):\n",
        "  a.append( np.random.uniform(-1.0, 1.0) )\n",
        "  for j in range(i):\n",
        "    J[i][j] = np.random.uniform(-1.0, 1.0)\n",
        "\n",
        "# calculate Hint\n",
        "coeffs = []\n",
        "obs = []\n",
        "for j in range(6):\n",
        "    coeffs.append(a[j])\n",
        "    obs.append(qml.PauliX(j))\n",
        "    for k in range(j):\n",
        "      coeffs.append(J[j][k])\n",
        "      obs.append(qml.PauliZ(j) @ qml.PauliZ(k))\n",
        "Hint = qml.Hamiltonian(coeffs, obs) \n",
        "# some fixed values (as specified in paper)\n",
        "D = 3\n",
        "tau = 0.2\n",
        "\n",
        "# Parameters\n",
        "alpha_array = np.zeros((D, 6))\n",
        "beta_array  = np.zeros((D, 6))\n",
        "gamma_array = np.zeros((D, 6))\n",
        "# alpha_array = np.random.rand(D, 6)\n",
        "# beta_array  = np.random.rand(D, 6)\n",
        "# gamma_array = np.random.rand(D, 6)\n",
        "c = 1.0\n",
        "\n",
        "def encoding(x):\n",
        "    qml.RY(np.arccos(x), wires=0)\n",
        "    qml.RY(np.arccos(x), wires=1)\n",
        "    qml.RY(np.arccos(x), wires=2)\n",
        "\n",
        "def U1(alpha, beta, gamma, wire):\n",
        "     qml.RX(alpha, wires=wire)\n",
        "     qml.RZ(beta, wires=wire)\n",
        "     qml.RX(gamma, wires=wire)\n",
        "\n",
        "def evolution(alpha_array, beta_array, gamma_array):\n",
        "    for i in range (D): # D = 3\n",
        "        # U1 rotations\n",
        "        for j in range(6):\n",
        "            U1(alpha_array[i][j], beta_array[i][j], gamma_array[i][j], j)\n",
        "\n",
        "        # np.exp(-1.0*j * Hint * tau) # e^(-i Hint tau)\n",
        "        qml.ApproxTimeEvolution(Hint, tau, 5)\n",
        "\n",
        "@qml.qnode(dev)\n",
        "def pqc(x, alpha_array, beta_array, gamma_array):\n",
        "    encoding(x)\n",
        "    evolution(alpha_array, beta_array, gamma_array)\n",
        "    \n",
        "    return [qml.expval(qml.PauliZ(i)) for i in range(3)]\n",
        "\n",
        "def timestep_output(x, weights):\n",
        "\n",
        "    # print(qml.draw_mpl(pqc)(0.5))\n",
        "    result = pqc(x, weights[0], weights[1], weights[2])\n",
        "    # print(\"Output of pqc: \", result)\n",
        "    # print(\"Type of pqc: \", result[0])\n",
        "    \n",
        "    # y = c * np.average(result)\n",
        "    y = weights[3] * (( result[0] + result[1] + result[2] ) / 3.0)\n",
        "    # print(\"Output of each timestep: \", y)\n",
        "\n",
        "    return y\n",
        "\n",
        "timestep_output(0.7, [alpha_array, beta_array, gamma_array, c])\n",
        "\n",
        "# print(qml.draw_mpl(pqc)(0.5, 1))\n",
        "# print(\"blahhhhhhhhh\", np.arccos(1))\n",
        "\n",
        "\n",
        "### random code ideas, unused\n",
        "\n",
        "# expval1 = qml.expval(qml.PauliZ(0))\n",
        "# expval2 = qml.expval(qml.PauliZ(1))\n",
        "# expval3 = qml.expval(qml.PauliZ(2))\n",
        "\n",
        "# avg = (expval1 + expval2 + expval3) / 3.0\n",
        "\n",
        "# print([expval1.eigvals(), expval2.eigvals(), expval3.eigvals()])\n",
        "\n",
        "# return c * avg\n",
        "# return expval1, expval2, expval3"
      ],
      "metadata": {
        "id": "mPBBhZUvDXz1",
        "colab": {
          "base_uri": "https://localhost:8080/"
        },
        "outputId": "8ad63dd2-91ff-46ed-d69d-bca9f0f54555"
      },
      "execution_count": 43,
      "outputs": [
        {
          "output_type": "execute_result",
          "data": {
            "text/plain": [
              "tensor(0.49659323, requires_grad=True)"
            ]
          },
          "metadata": {},
          "execution_count": 43
        }
      ]
    },
    {
      "cell_type": "code",
      "source": [
        "np.array(0.2)"
      ],
      "metadata": {
        "colab": {
          "base_uri": "https://localhost:8080/"
        },
        "id": "dpGhuYxCKwG8",
        "outputId": "3c1f2baa-3706-4d5e-82ba-54a5a68897e3"
      },
      "execution_count": 44,
      "outputs": [
        {
          "output_type": "execute_result",
          "data": {
            "text/plain": [
              "tensor(0.2, requires_grad=True)"
            ]
          },
          "metadata": {},
          "execution_count": 44
        }
      ]
    },
    {
      "cell_type": "code",
      "source": [
        "def generate_input(t_in):\n",
        "    t=8/199*t_in\n",
        "    if t>=0 and t<=1:\n",
        "        return -t+0.5\n",
        "    elif t>=1 and t<=2:\n",
        "        return t-1.5\n",
        "    elif t>=2 and t<=3:\n",
        "        return -t+2.5\n",
        "    else:\n",
        "        return t-3.5\n",
        "\n",
        "train_inputs = []\n",
        "train_expected_outputs = []\n",
        "\n",
        "for i in range(100):\n",
        "    train_inputs.append(generate_input(i))\n",
        "    train_expected_outputs.append(generate_input(i+1))\n",
        "\n",
        "print(train_inputs)\n",
        "print(train_expected_outputs)"
      ],
      "metadata": {
        "id": "TaDLHRdPFsoc",
        "colab": {
          "base_uri": "https://localhost:8080/"
        },
        "outputId": "c8cf9248-83a8-4fe5-ccbf-3304046ae84c"
      },
      "execution_count": 45,
      "outputs": [
        {
          "output_type": "stream",
          "name": "stdout",
          "text": [
            "[0.5, 0.45979899497487436, 0.41959798994974873, 0.37939698492462315, 0.33919597989949746, 0.2989949748743719, 0.25879396984924624, 0.2185929648241206, 0.17839195979899497, 0.13819095477386933, 0.0979899497487437, 0.05778894472361806, 0.017587939698492483, -0.022613065326633208, -0.06281407035175879, -0.10301507537688448, -0.14321608040201006, -0.18341708542713564, -0.22361809045226133, -0.2638190954773869, -0.3040201005025126, -0.3442211055276382, -0.3844221105527639, -0.42462311557788945, -0.46482412060301503, -0.4949748743718594, -0.4547738693467336, -0.414572864321608, -0.3743718592964824, -0.33417085427135684, -0.29396984924623104, -0.25376884422110546, -0.21356783919597988, -0.1733668341708543, -0.13316582914572872, -0.09296482412060292, -0.05276381909547734, -0.012562814070351758, 0.027638190954773822, 0.06783919597989962, 0.1080402010050252, 0.14824120603015079, 0.18844221105527637, 0.22864321608040195, 0.26884422110552775, 0.3090452261306533, 0.3492462311557789, 0.3894472361809045, 0.42964824120603007, 0.46984924623115587, 0.48994974874371877, 0.44974874371859297, 0.40954773869346717, 0.3693467336683418, 0.329145728643216, 0.2889447236180902, 0.24874371859296485, 0.20854271356783904, 0.16834170854271369, 0.12814070351758788, 0.08793969849246208, 0.047738693467336724, 0.007537688442210921, -0.03266331658291444, -0.07286432160804024, -0.11306532663316604, -0.1532663316582914, -0.1934673366834172, -0.23366834170854256, -0.27386934673366836, -0.31407035175879416, -0.3542713567839195, -0.3944723618090453, -0.4346733668341707, -0.4748743718592965, -0.4849246231155777, -0.44472361809045236, -0.40452261306532655, -0.36432160804020075, -0.3241206030150754, -0.2839195979899496, -0.24371859296482423, -0.20351758793969843, -0.16331658291457263, -0.12311557788944727, -0.08291457286432147, -0.04271356783919611, -0.002512562814070307, 0.037688442211055495, 0.07788944723618085, 0.11809045226130666, 0.158291457286432, 0.19849246231155782, 0.23869346733668362, 0.278894472361809, 0.3190954773869348, 0.35929648241206014, 0.39949748743718594, 0.43969849246231174, 0.4798994974874371]\n",
            "[0.45979899497487436, 0.41959798994974873, 0.37939698492462315, 0.33919597989949746, 0.2989949748743719, 0.25879396984924624, 0.2185929648241206, 0.17839195979899497, 0.13819095477386933, 0.0979899497487437, 0.05778894472361806, 0.017587939698492483, -0.022613065326633208, -0.06281407035175879, -0.10301507537688448, -0.14321608040201006, -0.18341708542713564, -0.22361809045226133, -0.2638190954773869, -0.3040201005025126, -0.3442211055276382, -0.3844221105527639, -0.42462311557788945, -0.46482412060301503, -0.4949748743718594, -0.4547738693467336, -0.414572864321608, -0.3743718592964824, -0.33417085427135684, -0.29396984924623104, -0.25376884422110546, -0.21356783919597988, -0.1733668341708543, -0.13316582914572872, -0.09296482412060292, -0.05276381909547734, -0.012562814070351758, 0.027638190954773822, 0.06783919597989962, 0.1080402010050252, 0.14824120603015079, 0.18844221105527637, 0.22864321608040195, 0.26884422110552775, 0.3090452261306533, 0.3492462311557789, 0.3894472361809045, 0.42964824120603007, 0.46984924623115587, 0.48994974874371877, 0.44974874371859297, 0.40954773869346717, 0.3693467336683418, 0.329145728643216, 0.2889447236180902, 0.24874371859296485, 0.20854271356783904, 0.16834170854271369, 0.12814070351758788, 0.08793969849246208, 0.047738693467336724, 0.007537688442210921, -0.03266331658291444, -0.07286432160804024, -0.11306532663316604, -0.1532663316582914, -0.1934673366834172, -0.23366834170854256, -0.27386934673366836, -0.31407035175879416, -0.3542713567839195, -0.3944723618090453, -0.4346733668341707, -0.4748743718592965, -0.4849246231155777, -0.44472361809045236, -0.40452261306532655, -0.36432160804020075, -0.3241206030150754, -0.2839195979899496, -0.24371859296482423, -0.20351758793969843, -0.16331658291457263, -0.12311557788944727, -0.08291457286432147, -0.04271356783919611, -0.002512562814070307, 0.037688442211055495, 0.07788944723618085, 0.11809045226130666, 0.158291457286432, 0.19849246231155782, 0.23869346733668362, 0.278894472361809, 0.3190954773869348, 0.35929648241206014, 0.39949748743718594, 0.43969849246231174, 0.4798994974874371, 0.5201005025125625]\n"
          ]
        }
      ]
    },
    {
      "cell_type": "code",
      "source": [
        "### Lecture 8 Demo helper functions\n",
        "\n",
        "def make_predictions(data, model, weights):\n",
        "    \"\"\"Predict the labels of all points in a data set for a given model.\n",
        "    \n",
        "    Args:\n",
        "        data (array[float]): Input data. A list with shape N x 2\n",
        "            representing points on a 2D plane.\n",
        "        model (qml.QNode): A QNode whose output expectation value will be\n",
        "            used to make predictions of the labels of data.\n",
        "        weights (array[float]): The trainable model parameters for the QNode. \n",
        "            \n",
        "    Returns:\n",
        "        array[int]: The array of predictions for each data point made by \n",
        "        the model QNode. \n",
        "    \"\"\"\n",
        "    preds = []\n",
        "    \n",
        "    for idx in range(len(data)):\n",
        "        estimated_expval = model(data[idx], weights)\n",
        "        \n",
        "        if estimated_expval > 0:\n",
        "            preds.append(1)\n",
        "        else:\n",
        "            preds.append(-1)\n",
        "            \n",
        "    return preds\n",
        "\n",
        "def make_loss_function(data, labels, model):\n",
        "\n",
        "    def loss(weights):\n",
        "        loss_sum = 0.0\n",
        "\n",
        "        for idx in range(len(data)):\n",
        "            point = data[idx]\n",
        "            true_expval = labels[idx]\n",
        "\n",
        "            estimated_expval = model(point, weights)\n",
        "            loss_sum += (estimated_expval - true_expval) ** 2\n",
        "\n",
        "        return loss_sum / len(data)\n",
        "    \n",
        "    return loss\n",
        "\n",
        "def compute_accuracy(predictions, true_labels):\n",
        "    \"\"\"Compute the accuracy of our predictions.\n",
        "    \n",
        "    Args:\n",
        "        predictions (array[int]): Predicted values to \n",
        "        true_labels (array[int]): Integers identifying the class/label of \n",
        "            each data point.\n",
        "    \n",
        "    Returns:\n",
        "        float: Accuracy of the predictions, returned as a percentage.\n",
        "    \"\"\"    \n",
        "    n_samples = len(predictions)\n",
        "    \n",
        "    return np.sum(\n",
        "        [predictions[x] == true_labels[x] for x in range(n_samples)\n",
        "    ]) / n_samples"
      ],
      "metadata": {
        "id": "xh0VDpMmk19R"
      },
      "execution_count": 46,
      "outputs": []
    },
    {
      "cell_type": "code",
      "source": [
        "loss = make_loss_function(train_inputs, train_expected_outputs, timestep_output)"
      ],
      "metadata": {
        "id": "NZVdxjTAkjqe"
      },
      "execution_count": 47,
      "outputs": []
    },
    {
      "cell_type": "code",
      "source": [
        "gradient_function = qml.grad(timestep_output)"
      ],
      "metadata": {
        "id": "USugvkQTu6JY"
      },
      "execution_count": 50,
      "outputs": []
    },
    {
      "cell_type": "code",
      "source": [
        "opt = qml.GradientDescentOptimizer(stepsize=0.1)\n",
        "\n",
        "n_its = 100\n",
        "\n",
        "loss_track = []\n",
        "\n",
        "weights = [alpha_array, beta_array, gamma_array, c]\n",
        "# weights = np.array([alpha_array, beta_array, gamma_array, c], requires_grad=True).tolist()\n",
        "\n",
        "for it in range(n_its):\n",
        "    weights, _loss = opt.step_and_cost(loss, weights)\n",
        "    if it % 5 == 0:\n",
        "        our_preds = make_predictions(train_inputs, timestep_output, weights)\n",
        "        print(f\"Loss at iteration {it} = {_loss}  Accuracy = {compute_accuracy(our_preds, train_expected_outputs)}\")\n",
        "    loss_track.append(_loss)"
      ],
      "metadata": {
        "colab": {
          "base_uri": "https://localhost:8080/"
        },
        "id": "XO1nioiRkf51",
        "outputId": "3c5bf7c4-96d3-474b-854e-3957ba739094"
      },
      "execution_count": null,
      "outputs": [
        {
          "output_type": "stream",
          "name": "stdout",
          "text": [
            "Loss at iteration 0 = 0.006618330377973406  Accuracy = 0.0\n",
            "Loss at iteration 5 = 0.006618330377973406  Accuracy = 0.0\n"
          ]
        }
      ]
    },
    {
      "cell_type": "code",
      "source": [
        "weights"
      ],
      "metadata": {
        "id": "sA2sM63utRE1"
      },
      "execution_count": null,
      "outputs": []
    },
    {
      "cell_type": "code",
      "source": [
        "# weights = np.random.normal(size=(2, 3), requires_grad=True)\n",
        "weights = np.array([alpha_array, beta_array, gamma_array, c], requires_grad=True).tolist()\n",
        "weights"
      ],
      "metadata": {
        "id": "Z5nOMbAMtZ8Z"
      },
      "execution_count": null,
      "outputs": []
    }
  ]
}