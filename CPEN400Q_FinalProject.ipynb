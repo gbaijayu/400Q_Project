{
  "nbformat": 4,
  "nbformat_minor": 0,
  "metadata": {
    "colab": {
      "provenance": []
    },
    "kernelspec": {
      "name": "python3",
      "display_name": "Python 3"
    },
    "language_info": {
      "name": "python"
    }
  },
  "cells": [
    {
      "cell_type": "code",
      "execution_count": null,
      "metadata": {
        "id": "6glPk7xSCeb0"
      },
      "outputs": [],
      "source": [
        "!pip install pennylane\n",
        "import pennylane as qml\n",
        "from pennylane import numpy as np\n",
        "\n",
        "!pip install matplotlib\n",
        "import matplotlib.pyplot as plt"
      ]
    },
    {
      "cell_type": "code",
      "source": [
        "dev = qml.device(\"default.qubit\", wires=6)\n",
        "# wires 0,1,2 are group B (input training data)\n",
        "# wires 3,4,5 are group A (store past data)\n",
        "\n",
        "# initialize a, J values (stays same throughout trainig)\n",
        "a = []\n",
        "J = np.zeros((6, 6))\n",
        "for i in range(6):\n",
        "  a.append( np.random.uniform(-1.0, 1.0) )\n",
        "  for j in range(i):\n",
        "    J[i][j] = np.random.uniform(-1.0, 1.0)\n",
        "\n",
        "# calculate Hint\n",
        "coeffs = []\n",
        "obs = []\n",
        "for j in range(6):\n",
        "    coeffs.append(a[j])\n",
        "    obs.append(qml.PauliX(j))\n",
        "    for k in range(j):\n",
        "      coeffs.append(J[j][k])\n",
        "      obs.append(qml.PauliZ(j) @ qml.PauliZ(k))\n",
        "Hint = qml.Hamiltonian(coeffs, obs) "
      ],
      "metadata": {
        "id": "lqbn2jUqsPc_"
      },
      "execution_count": 2,
      "outputs": []
    },
    {
      "cell_type": "code",
      "source": [
        "print(Hint)"
      ],
      "metadata": {
        "colab": {
          "base_uri": "https://localhost:8080/"
        },
        "id": "k-m9Tfjosap4",
        "outputId": "64faa295-1f11-4fd8-d645-ac711e704130"
      },
      "execution_count": 3,
      "outputs": [
        {
          "output_type": "stream",
          "name": "stdout",
          "text": [
            "  (-0.6964666852609456) [X0]\n",
            "+ (-0.09920718198926326) [X1]\n",
            "+ (0.3025919933567274) [X5]\n",
            "+ (0.31150045762775336) [X4]\n",
            "+ (0.5495807477047425) [X3]\n",
            "+ (0.6565042243786732) [X2]\n",
            "+ (-0.9173717372038095) [Z5 Z0]\n",
            "+ (-0.5954511942607434) [Z5 Z1]\n",
            "+ (-0.5821811568240469) [Z5 Z3]\n",
            "+ (-0.5006192943204413) [Z3 Z0]\n",
            "+ (-0.48574732310973645) [Z4 Z2]\n",
            "+ (-0.46669027114633477) [Z2 Z1]\n",
            "+ (-0.3290303898746496) [Z3 Z2]\n",
            "+ (0.009015934885017618) [Z1 Z0]\n",
            "+ (0.2694237495155447) [Z3 Z1]\n",
            "+ (0.35790980399594496) [Z4 Z1]\n",
            "+ (0.5245966966096025) [Z4 Z3]\n",
            "+ (0.5334774500701669) [Z5 Z4]\n",
            "+ (0.5902067840717475) [Z4 Z0]\n",
            "+ (0.6120722827914467) [Z5 Z2]\n",
            "+ (0.6134275066300605) [Z2 Z0]\n"
          ]
        }
      ]
    },
    {
      "cell_type": "code",
      "source": [
        "dev = qml.device(\"default.qubit\", wires=6)\n",
        "# wires 0,1,2 are group B (input training data)\n",
        "# wires 3,4,5 are group A (store past data)\n",
        "\n",
        "# initialize a, J values (stays same throughout trainig)\n",
        "a = []\n",
        "J = np.zeros((6, 6))\n",
        "for i in range(6):\n",
        "  a.append( np.random.uniform(-1.0, 1.0) )\n",
        "  for j in range(i):\n",
        "    J[i][j] = np.random.uniform(-1.0, 1.0)\n",
        "\n",
        "# calculate Hint\n",
        "coeffs = []\n",
        "obs = []\n",
        "for j in range(6):\n",
        "    coeffs.append(a[j])\n",
        "    obs.append(qml.PauliX(j))\n",
        "    for k in range(j):\n",
        "      coeffs.append(J[j][k])\n",
        "      obs.append(qml.PauliZ(j) @ qml.PauliZ(k))\n",
        "Hint = qml.Hamiltonian(coeffs, obs) \n",
        "# some fixed values (as specified in paper)\n",
        "D = 3\n",
        "tau = 0.2\n",
        "\n",
        "# Parameters\n",
        "# alpha_array = np.zeros((D, 6))\n",
        "# beta_array  = np.zeros((D, 6))\n",
        "# gamma_array = np.zeros((D, 6))\n",
        "alpha_array = np.random.rand(D, 6)\n",
        "beta_array  = np.random.rand(D, 6)\n",
        "gamma_array = np.random.rand(D, 6)\n",
        "c = np.asarray(1.0)\n",
        "\n",
        "def encoding(x):\n",
        "    qml.RY(np.arccos(x), wires=0)\n",
        "    qml.RY(np.arccos(x), wires=1)\n",
        "    qml.RY(np.arccos(x), wires=2)\n",
        "\n",
        "def U1(alpha, beta, gamma, wire):\n",
        "     qml.RX(alpha, wires=wire)\n",
        "     qml.RZ(beta, wires=wire)\n",
        "     qml.RX(gamma, wires=wire)\n",
        "\n",
        "def evolution(alpha_array, beta_array, gamma_array):\n",
        "    for i in range (D): # D = 3\n",
        "        # U1 rotations\n",
        "        for j in range(6):\n",
        "            U1(alpha_array[i][j], beta_array[i][j], gamma_array[i][j], j)\n",
        "\n",
        "        # np.exp(-1.0*j * Hint * tau) # e^(-i Hint tau)\n",
        "        #change third paramter (larger is more accurate)\n",
        "        qml.ApproxTimeEvolution(Hint, tau, 1)\n",
        "\n",
        "@qml.qnode(dev)\n",
        "def pqc(x, alpha_array, beta_array, gamma_array):\n",
        "    encoding(x)\n",
        "    evolution(alpha_array, beta_array, gamma_array)\n",
        "    \n",
        "    return [qml.expval(qml.PauliZ(i)) for i in range(3)]\n",
        "\n",
        "#def timestep_output(x, weights):\n",
        "def timestep_output(x, alpha_array, beta_array, gamma_array, c):\n",
        "    \n",
        "    # print(qml.draw_mpl(pqc)(0.5))\n",
        "    #result = pqc(x, weights[0], weights[1], weights[2])\n",
        "    result = pqc(x, alpha_array, beta_array, gamma_array)\n",
        "    # print(\"Output of pqc: \", result)\n",
        "    # print(\"Type of pqc: \", result[0])\n",
        "    \n",
        "    # y = c * np.average(result)\n",
        "    y = c * (( result[0] + result[1] + result[2] ) / 3.0)\n",
        "    # print(\"Output of each timestep: \", y)\n",
        "\n",
        "    return y\n",
        "\n",
        "timestep_output(0.7, alpha_array, beta_array, gamma_array, c)\n",
        "# timestep_output(0.7, alpha_array, beta_array, gamma_array)\n",
        "print(qml.draw_mpl(pqc)(0.5, alpha_array, beta_array, gamma_array))\n",
        "\n",
        "# print(qml.draw_mpl(pqc)(0.5, 1))\n",
        "\n",
        "### random code ideas, unused\n",
        "\n",
        "# expval1 = qml.expval(qml.PauliZ(0))\n",
        "# expval2 = qml.expval(qml.PauliZ(1))\n",
        "# expval3 = qml.expval(qml.PauliZ(2))\n",
        "\n",
        "# avg = (expval1 + expval2 + expval3) / 3.0\n",
        "\n",
        "# print([expval1.eigvals(), expval2.eigvals(), expval3.eigvals()])\n",
        "\n",
        "# return c * avg\n",
        "# return expval1, expval2, expval3"
      ],
      "metadata": {
        "id": "mPBBhZUvDXz1",
        "colab": {
          "base_uri": "https://localhost:8080/",
          "height": 553
        },
        "outputId": "97a03b85-24aa-4834-c77f-cd5e8f95a8c7"
      },
      "execution_count": 7,
      "outputs": [
        {
          "output_type": "stream",
          "name": "stdout",
          "text": [
            "(<Figure size 1152x504 with 1 Axes>, <Axes:>)\n"
          ]
        },
        {
          "output_type": "display_data",
          "data": {
            "text/plain": [
              "<Figure size 1152x504 with 1 Axes>"
            ],
            "image/png": "[encoded data removed]"
          },
          "metadata": {}
        }
      ]
    },
    {
      "cell_type": "code",
      "source": [
        "timestep_output(0.7, alpha_array, beta_array, gamma_array, c)"
      ],
      "metadata": {
        "colab": {
          "base_uri": "https://localhost:8080/"
        },
        "id": "1Qyy_PAMvSIq",
        "outputId": "88688c5b-a611-497a-9ecf-9e437494cf08"
      },
      "execution_count": 11,
      "outputs": [
        {
          "output_type": "execute_result",
          "data": {
            "text/plain": [
              "tensor(0.36483646, requires_grad=True)"
            ]
          },
          "metadata": {},
          "execution_count": 11
        }
      ]
    },
    {
      "cell_type": "code",
      "source": [
        "len(pqc.qtape.trainable_params)"
      ],
      "metadata": {
        "colab": {
          "base_uri": "https://localhost:8080/"
        },
        "id": "8DxSFn92tvZ0",
        "outputId": "e8f9f5ea-9c22-4f57-b6ae-68b639ca9725"
      },
      "execution_count": 12,
      "outputs": [
        {
          "output_type": "execute_result",
          "data": {
            "text/plain": [
              "99"
            ]
          },
          "metadata": {},
          "execution_count": 12
        }
      ]
    },
    {
      "cell_type": "code",
      "source": [
        "def generate_input(t_in):\n",
        "    t = 8/199 * t_in\n",
        "    if t >= 0 and t <= 1:\n",
        "        return -t + 0.5\n",
        "    elif t >= 1 and t <= 2:\n",
        "        return t - 1.5\n",
        "    elif t >= 2 and t <= 3:\n",
        "        return -t + 2.5\n",
        "    else:\n",
        "        return t - 3.5\n",
        "\n",
        "train_inputs = []\n",
        "train_expected_outputs = []\n",
        "\n",
        "for i in range(100):\n",
        "    train_inputs.append(generate_input(i))\n",
        "    train_expected_outputs.append(generate_input(i+1))\n",
        "\n",
        "print(train_inputs)\n",
        "print(train_expected_outputs)\n",
        "plt.plot(train_inputs)\n",
        "plt.plot(train_expected_outputs)"
      ],
      "metadata": {
        "id": "TaDLHRdPFsoc",
        "colab": {
          "base_uri": "https://localhost:8080/",
          "height": 337
        },
        "outputId": "f4cb6fbb-8a68-438e-f70a-1e729d1f48eb"
      },
      "execution_count": 14,
      "outputs": [
        {
          "output_type": "stream",
          "name": "stdout",
          "text": [
            "[0.5, 0.45979899497487436, 0.41959798994974873, 0.37939698492462315, 0.33919597989949746, 0.2989949748743719, 0.25879396984924624, 0.2185929648241206, 0.17839195979899497, 0.13819095477386933, 0.0979899497487437, 0.05778894472361806, 0.017587939698492483, -0.022613065326633208, -0.06281407035175879, -0.10301507537688448, -0.14321608040201006, -0.18341708542713564, -0.22361809045226133, -0.2638190954773869, -0.3040201005025126, -0.3442211055276382, -0.3844221105527639, -0.42462311557788945, -0.46482412060301503, -0.4949748743718594, -0.4547738693467336, -0.414572864321608, -0.3743718592964824, -0.33417085427135684, -0.29396984924623104, -0.25376884422110546, -0.21356783919597988, -0.1733668341708543, -0.13316582914572872, -0.09296482412060292, -0.05276381909547734, -0.012562814070351758, 0.027638190954773822, 0.06783919597989962, 0.1080402010050252, 0.14824120603015079, 0.18844221105527637, 0.22864321608040195, 0.26884422110552775, 0.3090452261306533, 0.3492462311557789, 0.3894472361809045, 0.42964824120603007, 0.46984924623115587, 0.48994974874371877, 0.44974874371859297, 0.40954773869346717, 0.3693467336683418, 0.329145728643216, 0.2889447236180902, 0.24874371859296485, 0.20854271356783904, 0.16834170854271369, 0.12814070351758788, 0.08793969849246208, 0.047738693467336724, 0.007537688442210921, -0.03266331658291444, -0.07286432160804024, -0.11306532663316604, -0.1532663316582914, -0.1934673366834172, -0.23366834170854256, -0.27386934673366836, -0.31407035175879416, -0.3542713567839195, -0.3944723618090453, -0.4346733668341707, -0.4748743718592965, -0.4849246231155777, -0.44472361809045236, -0.40452261306532655, -0.36432160804020075, -0.3241206030150754, -0.2839195979899496, -0.24371859296482423, -0.20351758793969843, -0.16331658291457263, -0.12311557788944727, -0.08291457286432147, -0.04271356783919611, -0.002512562814070307, 0.037688442211055495, 0.07788944723618085, 0.11809045226130666, 0.158291457286432, 0.19849246231155782, 0.23869346733668362, 0.278894472361809, 0.3190954773869348, 0.35929648241206014, 0.39949748743718594, 0.43969849246231174, 0.4798994974874371]\n",
            "[0.45979899497487436, 0.41959798994974873, 0.37939698492462315, 0.33919597989949746, 0.2989949748743719, 0.25879396984924624, 0.2185929648241206, 0.17839195979899497, 0.13819095477386933, 0.0979899497487437, 0.05778894472361806, 0.017587939698492483, -0.022613065326633208, -0.06281407035175879, -0.10301507537688448, -0.14321608040201006, -0.18341708542713564, -0.22361809045226133, -0.2638190954773869, -0.3040201005025126, -0.3442211055276382, -0.3844221105527639, -0.42462311557788945, -0.46482412060301503, -0.4949748743718594, -0.4547738693467336, -0.414572864321608, -0.3743718592964824, -0.33417085427135684, -0.29396984924623104, -0.25376884422110546, -0.21356783919597988, -0.1733668341708543, -0.13316582914572872, -0.09296482412060292, -0.05276381909547734, -0.012562814070351758, 0.027638190954773822, 0.06783919597989962, 0.1080402010050252, 0.14824120603015079, 0.18844221105527637, 0.22864321608040195, 0.26884422110552775, 0.3090452261306533, 0.3492462311557789, 0.3894472361809045, 0.42964824120603007, 0.46984924623115587, 0.48994974874371877, 0.44974874371859297, 0.40954773869346717, 0.3693467336683418, 0.329145728643216, 0.2889447236180902, 0.24874371859296485, 0.20854271356783904, 0.16834170854271369, 0.12814070351758788, 0.08793969849246208, 0.047738693467336724, 0.007537688442210921, -0.03266331658291444, -0.07286432160804024, -0.11306532663316604, -0.1532663316582914, -0.1934673366834172, -0.23366834170854256, -0.27386934673366836, -0.31407035175879416, -0.3542713567839195, -0.3944723618090453, -0.4346733668341707, -0.4748743718592965, -0.4849246231155777, -0.44472361809045236, -0.40452261306532655, -0.36432160804020075, -0.3241206030150754, -0.2839195979899496, -0.24371859296482423, -0.20351758793969843, -0.16331658291457263, -0.12311557788944727, -0.08291457286432147, -0.04271356783919611, -0.002512562814070307, 0.037688442211055495, 0.07788944723618085, 0.11809045226130666, 0.158291457286432, 0.19849246231155782, 0.23869346733668362, 0.278894472361809, 0.3190954773869348, 0.35929648241206014, 0.39949748743718594, 0.43969849246231174, 0.4798994974874371, 0.5201005025125625]\n"
          ]
        },
        {
          "output_type": "execute_result",
          "data": {
            "text/plain": [
              "[<matplotlib.lines.Line2D at 0x7f9713faa0a0>]"
            ]
          },
          "metadata": {},
          "execution_count": 14
        },
        {
          "output_type": "display_data",
          "data": {
            "text/plain": [
              "<Figure size 432x288 with 1 Axes>"
            ],
            "image/png": "[encoded data removed]"
          },
          "metadata": {
            "needs_background": "light"
          }
        }
      ]
    },
    {
      "cell_type": "code",
      "source": [
        "### Lecture 8 Demo helper functions\n",
        "\n",
        "#def make_predictions(data, model, weights):\n",
        "def make_predictions(data, model, alpha_array, beta_array, gamma_array, c):\n",
        "\n",
        "    \"\"\"Predict the labels of all points in a data set for a given model.\n",
        "    \n",
        "    Args:\n",
        "        data (array[float]): Input data. A list with shape N x 2\n",
        "            representing points on a 2D plane.\n",
        "        model (qml.QNode): A QNode whose output expectation value will be\n",
        "            used to make predictions of the labels of data.\n",
        "        weights (array[float]): The trainable model parameters for the QNode. \n",
        "            \n",
        "    Returns:\n",
        "        array[int]: The array of predictions for each data point made by \n",
        "        the model QNode. \n",
        "    \"\"\"\n",
        "    preds = []\n",
        "    \n",
        "    for idx in range(len(data)):\n",
        "        estimated_expval = model(data[idx], alpha_array, beta_array, gamma_array, c)\n",
        "        \n",
        "        preds.append(estimated_expval)\n",
        "            \n",
        "    return preds\n",
        "\n",
        "def make_loss_function(data, labels, model):\n",
        "\n",
        "    #def loss(weights):\n",
        "    def loss(alpha_array, beta_array, gamma_array, c):\n",
        "        loss_sum = 0.0\n",
        "\n",
        "        for idx in range(len(data)):\n",
        "            point = data[idx]\n",
        "            true_expval = labels[idx]\n",
        "\n",
        "            #estimated_expval = model(point, weights)\n",
        "            estimated_expval = model(point, alpha_array, beta_array, gamma_array, c)\n",
        "            loss_sum += (estimated_expval - true_expval) ** 2\n",
        "\n",
        "        return loss_sum / len(data)\n",
        "    \n",
        "    return loss\n",
        "\n",
        "def compute_accuracy(predictions, true_labels):\n",
        "    \"\"\"Compute the accuracy of our predictions.\n",
        "    \n",
        "    Args:\n",
        "        predictions (array[int]): Predicted values to \n",
        "        true_labels (array[int]): Integers identifying the class/label of \n",
        "            each data point.\n",
        "    \n",
        "    Returns:\n",
        "        float: Accuracy of the predictions, returned as a percentage.\n",
        "    \"\"\"    \n",
        "    n_samples = len(predictions)\n",
        "    \n",
        "    return np.sum(\n",
        "        [np.abs(predictions[x]-true_labels[x]) < 0.1 for x in range(n_samples)\n",
        "    ]) / n_samples"
      ],
      "metadata": {
        "id": "xh0VDpMmk19R"
      },
      "execution_count": 15,
      "outputs": []
    },
    {
      "cell_type": "code",
      "source": [
        "loss = make_loss_function(train_inputs, train_expected_outputs, timestep_output)"
      ],
      "metadata": {
        "id": "NZVdxjTAkjqe"
      },
      "execution_count": 16,
      "outputs": []
    },
    {
      "cell_type": "code",
      "source": [
        "gradient_function = qml.grad(timestep_output)"
      ],
      "metadata": {
        "id": "USugvkQTu6JY"
      },
      "execution_count": 17,
      "outputs": []
    },
    {
      "cell_type": "code",
      "source": [
        "# tune this parameter!\n",
        "opt = qml.GradientDescentOptimizer(stepsize=0.1)\n",
        "\n",
        "n_its = 100\n",
        "\n",
        "loss_track = []\n",
        "\n",
        "# weights = [alpha_array, beta_array, gamma_array, c]\n",
        "# weights = np.array([alpha_array, beta_array, gamma_array, c], requires_grad=True).tolist()\n",
        "\n",
        "for it in range(n_its):\n",
        "    # weights, _loss = opt.step_and_cost(loss, weights)\n",
        "    # Add c as a trainable parameter\n",
        "    (alpha_array, beta_array, gamma_array, c), _loss = opt.step_and_cost(loss, alpha_array, beta_array, gamma_array, c)\n",
        "\n",
        "    if it % 5 == 0:\n",
        "        #our_preds = make_predictions(train_inputs, timestep_output, weights)\n",
        "        our_preds = make_predictions(train_inputs, timestep_output, alpha_array, beta_array, gamma_array, c)\n",
        "        print(f\"Loss at iteration {it} = {_loss}  Accuracy = {compute_accuracy(our_preds, train_expected_outputs)}\")\n",
        "    loss_track.append(_loss)"
      ],
      "metadata": {
        "colab": {
          "base_uri": "https://localhost:8080/"
        },
        "id": "XO1nioiRkf51",
        "outputId": "88a9fff6-7560-46e4-b7f6-2bdb4986db28"
      },
      "execution_count": 18,
      "outputs": [
        {
          "output_type": "stream",
          "name": "stdout",
          "text": [
            "Loss at iteration 0 = 0.19500227420141406  Accuracy = 0.2\n",
            "Loss at iteration 5 = 0.1122947416423143  Accuracy = 0.24\n",
            "Loss at iteration 10 = 0.07866033222254473  Accuracy = 0.24\n",
            "Loss at iteration 15 = 0.06251906592742161  Accuracy = 0.24\n",
            "Loss at iteration 20 = 0.053734452426754994  Accuracy = 0.25\n",
            "Loss at iteration 25 = 0.0482830274468403  Accuracy = 0.27\n",
            "Loss at iteration 30 = 0.04437178186232007  Accuracy = 0.28\n",
            "Loss at iteration 35 = 0.04116514130676661  Accuracy = 0.28\n",
            "Loss at iteration 40 = 0.03827476738774059  Accuracy = 0.3\n",
            "Loss at iteration 45 = 0.03552654105226726  Accuracy = 0.31\n",
            "Loss at iteration 50 = 0.03284849265528575  Accuracy = 0.33\n",
            "Loss at iteration 55 = 0.030217020586549376  Accuracy = 0.36\n",
            "Loss at iteration 60 = 0.027631759387514054  Accuracy = 0.36\n",
            "Loss at iteration 65 = 0.025104090490275257  Accuracy = 0.36\n",
            "Loss at iteration 70 = 0.022651707561776036  Accuracy = 0.39\n",
            "Loss at iteration 75 = 0.02029556014539289  Accuracy = 0.41\n",
            "Loss at iteration 80 = 0.0180575549995699  Accuracy = 0.46\n",
            "Loss at iteration 85 = 0.015958459500324925  Accuracy = 0.48\n",
            "Loss at iteration 90 = 0.014015979921563339  Accuracy = 0.51\n",
            "Loss at iteration 95 = 0.012243204186015688  Accuracy = 0.55\n"
          ]
        }
      ]
    },
    {
      "cell_type": "code",
      "source": [
        "plt.plot(train_expected_outputs)\n",
        "plt.plot(our_preds)"
      ],
      "metadata": {
        "colab": {
          "base_uri": "https://localhost:8080/",
          "height": 283
        },
        "id": "Voh3wClz1TFv",
        "outputId": "f86af167-45df-4906-a457-f2004bc8c185"
      },
      "execution_count": 19,
      "outputs": [
        {
          "output_type": "execute_result",
          "data": {
            "text/plain": [
              "[<matplotlib.lines.Line2D at 0x7f970f170160>]"
            ]
          },
          "metadata": {},
          "execution_count": 19
        },
        {
          "output_type": "display_data",
          "data": {
            "text/plain": [
              "<Figure size 432x288 with 1 Axes>"
            ],
            "image/png": "[encoded data removed]"
          },
          "metadata": {
            "needs_background": "light"
          }
        }
      ]
    },
    {
      "cell_type": "code",
      "source": [
        "c"
      ],
      "metadata": {
        "id": "sA2sM63utRE1",
        "colab": {
          "base_uri": "https://localhost:8080/"
        },
        "outputId": "0778138d-bbe0-418d-b077-5e5037c19b1c"
      },
      "execution_count": 20,
      "outputs": [
        {
          "output_type": "execute_result",
          "data": {
            "text/plain": [
              "tensor(1.17114007, requires_grad=True)"
            ]
          },
          "metadata": {},
          "execution_count": 20
        }
      ]
    },
    {
      "cell_type": "code",
      "source": [
        "# weights = np.random.normal(size=(2, 3), requires_grad=True)\n",
        "weights = np.array([alpha_array, beta_array, gamma_array, c], requires_grad=True).tolist()\n",
        "weights"
      ],
      "metadata": {
        "id": "Z5nOMbAMtZ8Z",
        "colab": {
          "base_uri": "https://localhost:8080/"
        },
        "outputId": "cf2dde5b-46e9-44cb-9161-224eb2b08f35"
      },
      "execution_count": 21,
      "outputs": [
        {
          "output_type": "stream",
          "name": "stderr",
          "text": [
            "/usr/local/lib/python3.8/dist-packages/autograd/numpy/numpy_wrapper.py:77: VisibleDeprecationWarning: Creating an ndarray from ragged nested sequences (which is a list-or-tuple of lists-or-tuples-or ndarrays with different lengths or shapes) is deprecated. If you meant to do this, you must specify 'dtype=object' when creating the ndarray.\n",
            "  return _np.array(args, *array_args, **array_kwargs)\n"
          ]
        },
        {
          "output_type": "execute_result",
          "data": {
            "text/plain": [
              "[array([[ 0.41178884,  0.5958563 ,  0.4978084 ,  0.95499017,  0.4407473 ,\n",
              "          0.15213097],\n",
              "        [ 0.76784009, -0.03023417,  0.35731888,  0.10741632,  0.0116951 ,\n",
              "          0.67423564],\n",
              "        [ 0.42050698,  0.23530231, -0.08699741,  0.67229449,  0.49023873,\n",
              "          0.14597524]]),\n",
              " array([[ 0.4800642 ,  0.66177368,  0.87491029,  0.84789145,  0.68531086,\n",
              "          0.68512727],\n",
              "        [-0.02699037, -0.0095773 ,  0.453432  ,  0.91873947,  0.14548134,\n",
              "          0.0365374 ],\n",
              "        [ 0.95470784,  0.81867226,  0.8009484 ,  0.64609938,  0.2926369 ,\n",
              "          0.5567718 ]]),\n",
              " array([[ 0.35020162, -0.108386  , -0.078037  ,  0.73225459,  0.67633947,\n",
              "          0.47326644],\n",
              "        [ 0.35568067, -0.01779083,  0.3813282 ,  0.46952981,  0.69720987,\n",
              "          0.48443231],\n",
              "        [ 0.63631101,  0.41243615,  0.3195167 ,  0.56387231,  0.27771838,\n",
              "          0.19713307]]),\n",
              " array(1.17114007)]"
            ]
          },
          "metadata": {},
          "execution_count": 21
        }
      ]
    }
  ]
}