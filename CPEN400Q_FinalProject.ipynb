{
  "nbformat": 4,
  "nbformat_minor": 0,
  "metadata": {
    "colab": {
      "provenance": []
    },
    "kernelspec": {
      "name": "python3",
      "display_name": "Python 3"
    },
    "language_info": {
      "name": "python"
    }
  },
  "cells": [
    {
      "cell_type": "code",
      "execution_count": 2,
      "metadata": {
        "id": "6glPk7xSCeb0",
        "colab": {
          "base_uri": "https://localhost:8080/"
        },
        "outputId": "3fece51d-f88e-4192-a1f4-3fee65282ae3"
      },
      "outputs": [
        {
          "output_type": "stream",
          "name": "stdout",
          "text": [
            "Looking in indexes: https://pypi.org/simple, https://us-python.pkg.dev/colab-wheels/public/simple/\n",
            "Collecting pennylane\n",
            "  Downloading PennyLane-0.29.1-py3-none-any.whl (1.3 MB)\n",
            "\u001b[2K     \u001b[90m━━━━━━━━━━━━━━━━━━━━━━━━━━━━━━━━━━━━━━━━\u001b[0m \u001b[32m1.3/1.3 MB\u001b[0m \u001b[31m7.4 MB/s\u001b[0m eta \u001b[36m0:00:00\u001b[0m\n",
            "\u001b[?25hRequirement already satisfied: cachetools in /usr/local/lib/python3.9/dist-packages (from pennylane) (5.3.0)\n",
            "Requirement already satisfied: networkx in /usr/local/lib/python3.9/dist-packages (from pennylane) (3.0)\n",
            "Collecting semantic-version>=2.7\n",
            "  Downloading semantic_version-2.10.0-py2.py3-none-any.whl (15 kB)\n",
            "Collecting pennylane-lightning>=0.28\n",
            "  Downloading PennyLane_Lightning-0.29.0-cp39-cp39-manylinux_2_17_x86_64.manylinux2014_x86_64.whl (16.5 MB)\n",
            "\u001b[2K     \u001b[90m━━━━━━━━━━━━━━━━━━━━━━━━━━━━━━━━━━━━━━━━\u001b[0m \u001b[32m16.5/16.5 MB\u001b[0m \u001b[31m10.7 MB/s\u001b[0m eta \u001b[36m0:00:00\u001b[0m\n",
            "\u001b[?25hCollecting retworkx\n",
            "  Downloading retworkx-0.12.1-py3-none-any.whl (10 kB)\n",
            "Requirement already satisfied: autograd in /usr/local/lib/python3.9/dist-packages (from pennylane) (1.5)\n",
            "Collecting autoray>=0.3.1\n",
            "  Downloading autoray-0.6.1-py3-none-any.whl (47 kB)\n",
            "\u001b[2K     \u001b[90m━━━━━━━━━━━━━━━━━━━━━━━━━━━━━━━━━━━━━━━━\u001b[0m \u001b[32m47.3/47.3 KB\u001b[0m \u001b[31m2.3 MB/s\u001b[0m eta \u001b[36m0:00:00\u001b[0m\n",
            "\u001b[?25hRequirement already satisfied: requests in /usr/local/lib/python3.9/dist-packages (from pennylane) (2.25.1)\n",
            "Requirement already satisfied: numpy<1.24 in /usr/local/lib/python3.9/dist-packages (from pennylane) (1.22.4)\n",
            "Collecting appdirs\n",
            "  Downloading appdirs-1.4.4-py2.py3-none-any.whl (9.6 kB)\n",
            "Requirement already satisfied: scipy in /usr/local/lib/python3.9/dist-packages (from pennylane) (1.10.1)\n",
            "Requirement already satisfied: toml in /usr/local/lib/python3.9/dist-packages (from pennylane) (0.10.2)\n",
            "Requirement already satisfied: future>=0.15.2 in /usr/local/lib/python3.9/dist-packages (from autograd->pennylane) (0.16.0)\n",
            "Requirement already satisfied: urllib3<1.27,>=1.21.1 in /usr/local/lib/python3.9/dist-packages (from requests->pennylane) (1.26.14)\n",
            "Requirement already satisfied: chardet<5,>=3.0.2 in /usr/local/lib/python3.9/dist-packages (from requests->pennylane) (4.0.0)\n",
            "Requirement already satisfied: certifi>=2017.4.17 in /usr/local/lib/python3.9/dist-packages (from requests->pennylane) (2022.12.7)\n",
            "Requirement already satisfied: idna<3,>=2.5 in /usr/local/lib/python3.9/dist-packages (from requests->pennylane) (2.10)\n",
            "Collecting rustworkx==0.12.1\n",
            "  Downloading rustworkx-0.12.1-cp39-cp39-manylinux_2_17_x86_64.manylinux2014_x86_64.whl (1.9 MB)\n",
            "\u001b[2K     \u001b[90m━━━━━━━━━━━━━━━━━━━━━━━━━━━━━━━━━━━━━━━━\u001b[0m \u001b[32m1.9/1.9 MB\u001b[0m \u001b[31m20.1 MB/s\u001b[0m eta \u001b[36m0:00:00\u001b[0m\n",
            "\u001b[?25hInstalling collected packages: appdirs, semantic-version, rustworkx, autoray, retworkx, pennylane-lightning, pennylane\n",
            "Successfully installed appdirs-1.4.4 autoray-0.6.1 pennylane-0.29.1 pennylane-lightning-0.29.0 retworkx-0.12.1 rustworkx-0.12.1 semantic-version-2.10.0\n",
            "Looking in indexes: https://pypi.org/simple, https://us-python.pkg.dev/colab-wheels/public/simple/\n",
            "Requirement already satisfied: matplotlib in /usr/local/lib/python3.9/dist-packages (3.5.3)\n",
            "Requirement already satisfied: kiwisolver>=1.0.1 in /usr/local/lib/python3.9/dist-packages (from matplotlib) (1.4.4)\n",
            "Requirement already satisfied: packaging>=20.0 in /usr/local/lib/python3.9/dist-packages (from matplotlib) (23.0)\n",
            "Requirement already satisfied: pyparsing>=2.2.1 in /usr/local/lib/python3.9/dist-packages (from matplotlib) (3.0.9)\n",
            "Requirement already satisfied: cycler>=0.10 in /usr/local/lib/python3.9/dist-packages (from matplotlib) (0.11.0)\n",
            "Requirement already satisfied: pillow>=6.2.0 in /usr/local/lib/python3.9/dist-packages (from matplotlib) (8.4.0)\n",
            "Requirement already satisfied: python-dateutil>=2.7 in /usr/local/lib/python3.9/dist-packages (from matplotlib) (2.8.2)\n",
            "Requirement already satisfied: numpy>=1.17 in /usr/local/lib/python3.9/dist-packages (from matplotlib) (1.22.4)\n",
            "Requirement already satisfied: fonttools>=4.22.0 in /usr/local/lib/python3.9/dist-packages (from matplotlib) (4.39.0)\n",
            "Requirement already satisfied: six>=1.5 in /usr/local/lib/python3.9/dist-packages (from python-dateutil>=2.7->matplotlib) (1.15.0)\n"
          ]
        }
      ],
      "source": [
        "!pip install pennylane\n",
        "import pennylane as qml\n",
        "from pennylane import numpy as np\n",
        "\n",
        "!pip install matplotlib\n",
        "import matplotlib.pyplot as plt"
      ]
    },
    {
      "cell_type": "code",
      "source": [
        "dev = qml.device(\"default.qubit\", wires=6)\n",
        "# wires 0,1,2 are group B (input training data)\n",
        "# wires 3,4,5 are group A (store past data)\n",
        "\n",
        "# initialize a, J values (stays same throughout trainig)\n",
        "a = []\n",
        "J = np.zeros((6, 6))\n",
        "for i in range(6):\n",
        "  a.append( np.random.uniform(-1.0, 1.0) )\n",
        "  for j in range(i):\n",
        "    J[i][j] = np.random.uniform(-1.0, 1.0)\n",
        "\n",
        "# calculate Hint\n",
        "coeffs = []\n",
        "obs = []\n",
        "for j in range(6):\n",
        "    coeffs.append(a[j])\n",
        "    obs.append(qml.PauliX(j))\n",
        "    for k in range(j):\n",
        "      coeffs.append(J[j][k])\n",
        "      obs.append(qml.PauliZ(j) @ qml.PauliZ(k))\n",
        "Hint = qml.Hamiltonian(coeffs, obs) "
      ],
      "metadata": {
        "id": "lqbn2jUqsPc_"
      },
      "execution_count": 5,
      "outputs": []
    },
    {
      "cell_type": "code",
      "source": [
        "print(Hint)"
      ],
      "metadata": {
        "colab": {
          "base_uri": "https://localhost:8080/"
        },
        "id": "k-m9Tfjosap4",
        "outputId": "c36b1ec5-9e57-435c-f425-5e283780b1a2"
      },
      "execution_count": 6,
      "outputs": [
        {
          "output_type": "stream",
          "name": "stdout",
          "text": [
            "  (-0.881438875180157) [X1]\n",
            "+ (-0.5251471104131027) [X0]\n",
            "+ (-0.22807972469080195) [X4]\n",
            "+ (-0.17237604652888794) [X3]\n",
            "+ (0.015358953959603516) [X2]\n",
            "+ (0.4907214383305254) [X5]\n",
            "+ (-0.9769492859782634) [Z5 Z2]\n",
            "+ (-0.8193348693270506) [Z3 Z2]\n",
            "+ (-0.5631360087393709) [Z2 Z1]\n",
            "+ (-0.49564807433610203) [Z5 Z4]\n",
            "+ (-0.4563911805728329) [Z3 Z0]\n",
            "+ (-0.37733512313606443) [Z3 Z1]\n",
            "+ (-0.08669001898716844) [Z5 Z3]\n",
            "+ (0.1380739754361815) [Z5 Z1]\n",
            "+ (0.28442857794386533) [Z5 Z0]\n",
            "+ (0.5590347585689228) [Z4 Z0]\n",
            "+ (0.6400452697551615) [Z2 Z0]\n",
            "+ (0.681721389722731) [Z1 Z0]\n",
            "+ (0.7325567833682536) [Z4 Z2]\n",
            "+ (0.8141716928926526) [Z4 Z3]\n",
            "+ (0.9573011349535445) [Z4 Z1]\n"
          ]
        }
      ]
    },
    {
      "cell_type": "code",
      "source": [
        "# is_First_Iteration = 1\n",
        "\n",
        "# prev_state = np.zeros(12) # Jason: idk what to initialize this as for now? lol"
      ],
      "metadata": {
        "id": "p752g5IR5N4R"
      },
      "execution_count": 14,
      "outputs": []
    },
    {
      "cell_type": "code",
      "source": [
        "from pennylane.math.utils import requires_grad\n",
        "# dev = qml.device(\"default.qubit\", wires=6)\n",
        "dev1 = qml.device(\"default.qubit\", wires=9)\n",
        "dev2 = qml.device(\"default.qubit\", wires=9)\n",
        "# wires 0,1,2 are group B (input training data)\n",
        "# wires 3,4,5 are group A (store past data)\n",
        "\n",
        "# initialize a, J values (stays same throughout trainig)\n",
        "a = []\n",
        "J = np.zeros((6, 6))\n",
        "for i in range(6):\n",
        "  a.append( np.random.uniform(-1.0, 1.0) )\n",
        "  for j in range(i):\n",
        "    J[i][j] = np.random.uniform(-1.0, 1.0)\n",
        "\n",
        "# calculate Hint\n",
        "coeffs = []\n",
        "obs = []\n",
        "for j in range(6):\n",
        "    coeffs.append(a[j])\n",
        "    obs.append(qml.PauliX(j))\n",
        "    for k in range(j):\n",
        "      coeffs.append(J[j][k])\n",
        "      obs.append(qml.PauliZ(j) @ qml.PauliZ(k))\n",
        "Hint = qml.Hamiltonian(coeffs, obs) \n",
        "# some fixed values (as specified in paper)\n",
        "D = 3\n",
        "tau = 0.2\n",
        "\n",
        "is_First_Iteration = np.array(1, requires_grad=False)\n",
        "\n",
        "prev_state = np.zeros(12, requires_grad=False) # Jason: idk what to initialize this as for now? lol\n",
        "\n",
        "# Parameters\n",
        "# alpha_array = np.zeros((D, 6))\n",
        "# beta_array  = np.zeros((D, 6))\n",
        "# gamma_array = np.zeros((D, 6))\n",
        "alpha_array = np.random.rand(D, 6)\n",
        "beta_array  = np.random.rand(D, 6)\n",
        "gamma_array = np.random.rand(D, 6)\n",
        "c = np.asarray(1.0)\n",
        "\n",
        "def encoding(x):\n",
        "    qml.RY(np.arccos(x), wires=0)\n",
        "    qml.RY(np.arccos(x), wires=1)\n",
        "    qml.RY(np.arccos(x), wires=2)\n",
        "\n",
        "def U1(alpha, beta, gamma, wire):\n",
        "     qml.RX(alpha, wires=wire)\n",
        "     qml.RZ(beta, wires=wire)\n",
        "     qml.RX(gamma, wires=wire)\n",
        "\n",
        "def evolution(alpha_array, beta_array, gamma_array):\n",
        "    for i in range (D): # D = 3\n",
        "        # U1 rotations\n",
        "        for j in range(6):\n",
        "            U1(alpha_array[i][j], beta_array[i][j], gamma_array[i][j], j)\n",
        "\n",
        "        # np.exp(-1.0*j * Hint * tau) # e^(-i Hint tau)\n",
        "        #change third paramter (larger is more accurate)\n",
        "        qml.ApproxTimeEvolution(Hint, tau, 1)\n",
        "\n",
        "@qml.qnode(dev1)\n",
        "def pqc_expval(x, alpha_array, beta_array, gamma_array, prev_state, is_First_Iteration):\n",
        "\n",
        "    if (is_First_Iteration == 0):\n",
        "        qml.MottonenStatePreparation(state_vector=prev_state, wires=range(6))\n",
        "        print(\"Just did MottonenStatePreparation using: \", prev_state)\n",
        "\n",
        "    # prev_state = np.zeros(12)\n",
        "    if (is_First_Iteration == 1):\n",
        "        is_First_Iteration = 0\n",
        "       \n",
        "    qml.SWAP(wires=[0,6])\n",
        "    qml.SWAP(wires=[1,7])\n",
        "    qml.SWAP(wires=[2,8])\n",
        "\n",
        "    encoding(x)\n",
        "    evolution(alpha_array, beta_array, gamma_array)\n",
        "    \n",
        "    # prev_state = qml.state()\n",
        "    # print(\"prev_state: \", prev_state)\n",
        "\n",
        "    # will qml.state() collapse wires before qml.expval returns?\n",
        "\n",
        "    return [qml.expval(qml.PauliZ(i)) for i in range(3)]\n",
        "    # return qml.state()\n",
        "\n",
        "@qml.qnode(dev2)\n",
        "def pqc_state(x, alpha_array, beta_array, gamma_array, prev_state, is_First_Iteration):\n",
        "\n",
        "    if (is_First_Iteration == 0):\n",
        "        qml.MottonenStatePreparation(state_vector=prev_state, wires=range(6))\n",
        "        print(\"Just did MottonenStatePreparation using: \", prev_state)\n",
        "\n",
        "    # prev_state = np.zeros(12)\n",
        "    if (is_First_Iteration == 1):\n",
        "        is_First_Iteration = 0\n",
        "       \n",
        "    qml.SWAP(wires=[0,6])\n",
        "    qml.SWAP(wires=[1,7])\n",
        "    qml.SWAP(wires=[2,8])\n",
        "\n",
        "    encoding(x)\n",
        "    evolution(alpha_array, beta_array, gamma_array)\n",
        "    \n",
        "    # prev_state = qml.state()\n",
        "    # print(\"prev_state: \", prev_state)\n",
        "\n",
        "    # will qml.state() collapse wires before qml.expval returns?\n",
        "\n",
        "    # return [qml.expval(qml.PauliZ(i)) for i in range(3)], qml.state()\n",
        "    return qml.state()\n",
        "\n",
        "#def timestep_output(x, weights):\n",
        "def timestep_output(x, alpha_array, beta_array, gamma_array, c, prev_state, is_First_Iteration):\n",
        "# def timestep_output(x, alpha_array, beta_array, gamma_array, c):\n",
        "    \n",
        "    # print(qml.draw_mpl(pqc)(0.5))\n",
        "    #result = pqc(x, weights[0], weights[1], weights[2])\n",
        "    result = pqc_expval(x, alpha_array, beta_array, gamma_array, prev_state, is_First_Iteration)\n",
        "    prev_state = pqc_state(x, alpha_array, beta_array, gamma_array, prev_state, is_First_Iteration)\n",
        "\n",
        "    # print(\"Output of pqc: \", result)\n",
        "    # print(\"Type of pqc: \", result[0])\n",
        "    \n",
        "    # y = c * np.average(result)\n",
        "    y = c * (( result[0] + result[1] + result[2] ) / 3.0)\n",
        "    # print(\"Output of each timestep: \", y)\n",
        "\n",
        "    return y\n",
        "\n",
        "timestep_output(0.7, alpha_array, beta_array, gamma_array, c, prev_state, is_First_Iteration)\n",
        "# timestep_output(0.7, alpha_array, beta_array, gamma_array)\n",
        "print(qml.draw_mpl(pqc_expval)(0.5, alpha_array, beta_array, gamma_array, prev_state, is_First_Iteration))\n",
        "\n",
        "# print(qml.draw_mpl(pqc)(0.5, 1))\n",
        "\n",
        "### random code ideas, unused\n",
        "\n",
        "# expval1 = qml.expval(qml.PauliZ(0))\n",
        "# expval2 = qml.expval(qml.PauliZ(1))\n",
        "# expval3 = qml.expval(qml.PauliZ(2))\n",
        "\n",
        "# avg = (expval1 + expval2 + expval3) / 3.0\n",
        "\n",
        "# print([expval1.eigvals(), expval2.eigvals(), expval3.eigvals()])\n",
        "\n",
        "# return c * avg\n",
        "# return expval1, expval2, expval3"
      ],
      "metadata": {
        "id": "mPBBhZUvDXz1",
        "colab": {
          "base_uri": "https://localhost:8080/",
          "height": 768
        },
        "outputId": "ce66b578-2667-48ab-ac01-58035bcd32bd"
      },
      "execution_count": 47,
      "outputs": [
        {
          "output_type": "stream",
          "name": "stdout",
          "text": [
            "(<Figure size 1368x720 with 1 Axes>, <Axes:>)\n"
          ]
        },
        {
          "output_type": "display_data",
          "data": {
            "text/plain": [
              "<Figure size 1368x720 with 1 Axes>"
            ],
            "image/png": "[encoded data removed]"
          },
          "metadata": {}
        }
      ]
    },
    {
      "cell_type": "code",
      "source": [
        "prev_state"
      ],
      "metadata": {
        "colab": {
          "base_uri": "https://localhost:8080/"
        },
        "id": "bYsODeDl-ZkB",
        "outputId": "448bd8e3-0467-4327-a8cb-782a0703af68"
      },
      "execution_count": 48,
      "outputs": [
        {
          "output_type": "execute_result",
          "data": {
            "text/plain": [
              "tensor([0., 0., 0., 0., 0., 0., 0., 0., 0., 0., 0., 0.], requires_grad=False)"
            ]
          },
          "metadata": {},
          "execution_count": 48
        }
      ]
    },
    {
      "cell_type": "code",
      "source": [
        "timestep_output(0.7, alpha_array, beta_array, gamma_array, c, prev_state, is_First_Iteration)"
      ],
      "metadata": {
        "colab": {
          "base_uri": "https://localhost:8080/"
        },
        "id": "1Qyy_PAMvSIq",
        "outputId": "de5102fe-c00b-497d-d893-6ce95b0c6204"
      },
      "execution_count": 49,
      "outputs": [
        {
          "output_type": "execute_result",
          "data": {
            "text/plain": [
              "tensor(0.15710249, requires_grad=True)"
            ]
          },
          "metadata": {},
          "execution_count": 49
        }
      ]
    },
    {
      "cell_type": "code",
      "source": [
        "# what is this for again?\n",
        "len(pqc_expval.qtape.trainable_params)"
      ],
      "metadata": {
        "colab": {
          "base_uri": "https://localhost:8080/"
        },
        "id": "8DxSFn92tvZ0",
        "outputId": "f87d4ecb-2321-440b-9ceb-26eb6e7d3102"
      },
      "execution_count": 50,
      "outputs": [
        {
          "output_type": "execute_result",
          "data": {
            "text/plain": [
              "99"
            ]
          },
          "metadata": {},
          "execution_count": 50
        }
      ]
    },
    {
      "cell_type": "code",
      "source": [
        "def generate_input(t_in):\n",
        "    t = 8/199 * t_in\n",
        "    if t >= 0 and t <= 1:\n",
        "        return -t + 0.5\n",
        "    elif t >= 1 and t <= 2:\n",
        "        return t - 1.5\n",
        "    elif t >= 2 and t <= 3:\n",
        "        return -t + 2.5\n",
        "    else:\n",
        "        return t - 3.5\n",
        "\n",
        "train_inputs = []\n",
        "train_expected_outputs = []\n",
        "\n",
        "for i in range(100):\n",
        "    train_inputs.append(generate_input(i))\n",
        "    train_expected_outputs.append(generate_input(i+1))\n",
        "\n",
        "print(train_inputs)\n",
        "print(train_expected_outputs)\n",
        "plt.plot(train_inputs)\n",
        "plt.plot(train_expected_outputs)"
      ],
      "metadata": {
        "id": "TaDLHRdPFsoc",
        "colab": {
          "base_uri": "https://localhost:8080/",
          "height": 337
        },
        "outputId": "97ae586d-cda9-465f-dc15-656ec0cc4a13"
      },
      "execution_count": 51,
      "outputs": [
        {
          "output_type": "stream",
          "name": "stdout",
          "text": [
            "[0.5, 0.45979899497487436, 0.41959798994974873, 0.37939698492462315, 0.33919597989949746, 0.2989949748743719, 0.25879396984924624, 0.2185929648241206, 0.17839195979899497, 0.13819095477386933, 0.0979899497487437, 0.05778894472361806, 0.017587939698492483, -0.022613065326633208, -0.06281407035175879, -0.10301507537688448, -0.14321608040201006, -0.18341708542713564, -0.22361809045226133, -0.2638190954773869, -0.3040201005025126, -0.3442211055276382, -0.3844221105527639, -0.42462311557788945, -0.46482412060301503, -0.4949748743718594, -0.4547738693467336, -0.414572864321608, -0.3743718592964824, -0.33417085427135684, -0.29396984924623104, -0.25376884422110546, -0.21356783919597988, -0.1733668341708543, -0.13316582914572872, -0.09296482412060292, -0.05276381909547734, -0.012562814070351758, 0.027638190954773822, 0.06783919597989962, 0.1080402010050252, 0.14824120603015079, 0.18844221105527637, 0.22864321608040195, 0.26884422110552775, 0.3090452261306533, 0.3492462311557789, 0.3894472361809045, 0.42964824120603007, 0.46984924623115587, 0.48994974874371877, 0.44974874371859297, 0.40954773869346717, 0.3693467336683418, 0.329145728643216, 0.2889447236180902, 0.24874371859296485, 0.20854271356783904, 0.16834170854271369, 0.12814070351758788, 0.08793969849246208, 0.047738693467336724, 0.007537688442210921, -0.03266331658291444, -0.07286432160804024, -0.11306532663316604, -0.1532663316582914, -0.1934673366834172, -0.23366834170854256, -0.27386934673366836, -0.31407035175879416, -0.3542713567839195, -0.3944723618090453, -0.4346733668341707, -0.4748743718592965, -0.4849246231155777, -0.44472361809045236, -0.40452261306532655, -0.36432160804020075, -0.3241206030150754, -0.2839195979899496, -0.24371859296482423, -0.20351758793969843, -0.16331658291457263, -0.12311557788944727, -0.08291457286432147, -0.04271356783919611, -0.002512562814070307, 0.037688442211055495, 0.07788944723618085, 0.11809045226130666, 0.158291457286432, 0.19849246231155782, 0.23869346733668362, 0.278894472361809, 0.3190954773869348, 0.35929648241206014, 0.39949748743718594, 0.43969849246231174, 0.4798994974874371]\n",
            "[0.45979899497487436, 0.41959798994974873, 0.37939698492462315, 0.33919597989949746, 0.2989949748743719, 0.25879396984924624, 0.2185929648241206, 0.17839195979899497, 0.13819095477386933, 0.0979899497487437, 0.05778894472361806, 0.017587939698492483, -0.022613065326633208, -0.06281407035175879, -0.10301507537688448, -0.14321608040201006, -0.18341708542713564, -0.22361809045226133, -0.2638190954773869, -0.3040201005025126, -0.3442211055276382, -0.3844221105527639, -0.42462311557788945, -0.46482412060301503, -0.4949748743718594, -0.4547738693467336, -0.414572864321608, -0.3743718592964824, -0.33417085427135684, -0.29396984924623104, -0.25376884422110546, -0.21356783919597988, -0.1733668341708543, -0.13316582914572872, -0.09296482412060292, -0.05276381909547734, -0.012562814070351758, 0.027638190954773822, 0.06783919597989962, 0.1080402010050252, 0.14824120603015079, 0.18844221105527637, 0.22864321608040195, 0.26884422110552775, 0.3090452261306533, 0.3492462311557789, 0.3894472361809045, 0.42964824120603007, 0.46984924623115587, 0.48994974874371877, 0.44974874371859297, 0.40954773869346717, 0.3693467336683418, 0.329145728643216, 0.2889447236180902, 0.24874371859296485, 0.20854271356783904, 0.16834170854271369, 0.12814070351758788, 0.08793969849246208, 0.047738693467336724, 0.007537688442210921, -0.03266331658291444, -0.07286432160804024, -0.11306532663316604, -0.1532663316582914, -0.1934673366834172, -0.23366834170854256, -0.27386934673366836, -0.31407035175879416, -0.3542713567839195, -0.3944723618090453, -0.4346733668341707, -0.4748743718592965, -0.4849246231155777, -0.44472361809045236, -0.40452261306532655, -0.36432160804020075, -0.3241206030150754, -0.2839195979899496, -0.24371859296482423, -0.20351758793969843, -0.16331658291457263, -0.12311557788944727, -0.08291457286432147, -0.04271356783919611, -0.002512562814070307, 0.037688442211055495, 0.07788944723618085, 0.11809045226130666, 0.158291457286432, 0.19849246231155782, 0.23869346733668362, 0.278894472361809, 0.3190954773869348, 0.35929648241206014, 0.39949748743718594, 0.43969849246231174, 0.4798994974874371, 0.5201005025125625]\n"
          ]
        },
        {
          "output_type": "execute_result",
          "data": {
            "text/plain": [
              "[<matplotlib.lines.Line2D at 0x7f675ab2c2e0>]"
            ]
          },
          "metadata": {},
          "execution_count": 51
        },
        {
          "output_type": "display_data",
          "data": {
            "text/plain": [
              "<Figure size 432x288 with 1 Axes>"
            ],
            "image/png": "[encoded data removed]"
          },
          "metadata": {
            "needs_background": "light"
          }
        }
      ]
    },
    {
      "cell_type": "code",
      "source": [
        "### Lecture 8 Demo helper functions\n",
        "\n",
        "#def make_predictions(data, model, weights):\n",
        "def make_predictions(data, model, alpha_array, beta_array, gamma_array, c, prev_state, is_First_Iteration):\n",
        "\n",
        "    \"\"\"Predict the labels of all points in a data set for a given model.\n",
        "    \n",
        "    Args:\n",
        "        data (array[float]): Input data. A list with shape N x 2\n",
        "            representing points on a 2D plane.\n",
        "        model (qml.QNode): A QNode whose output expectation value will be\n",
        "            used to make predictions of the labels of data.\n",
        "        weights (array[float]): The trainable model parameters for the QNode. \n",
        "            \n",
        "    Returns:\n",
        "        array[int]: The array of predictions for each data point made by \n",
        "        the model QNode. \n",
        "    \"\"\"\n",
        "    preds = []\n",
        "    \n",
        "    for idx in range(len(data)):\n",
        "        estimated_expval = model(data[idx], alpha_array, beta_array, gamma_array, c, prev_state, is_First_Iteration)\n",
        "        \n",
        "        preds.append(estimated_expval)\n",
        "            \n",
        "    return preds\n",
        "\n",
        "def make_loss_function(data, labels, model):\n",
        "\n",
        "    #def loss(weights):\n",
        "    def loss(alpha_array, beta_array, gamma_array, c, prev_state, is_First_Iteration):\n",
        "        loss_sum = 0.0\n",
        "\n",
        "        for idx in range(len(data)):\n",
        "            point = data[idx]\n",
        "            true_expval = labels[idx]\n",
        "\n",
        "            #estimated_expval = model(point, weights)\n",
        "            estimated_expval = model(point, alpha_array, beta_array, gamma_array, c, prev_state, is_First_Iteration)\n",
        "            loss_sum += (estimated_expval - true_expval) ** 2\n",
        "\n",
        "        return loss_sum / len(data)\n",
        "    \n",
        "    return loss\n",
        "\n",
        "def compute_accuracy(predictions, true_labels):\n",
        "    \"\"\"Compute the accuracy of our predictions.\n",
        "    \n",
        "    Args:\n",
        "        predictions (array[int]): Predicted values to \n",
        "        true_labels (array[int]): Integers identifying the class/label of \n",
        "            each data point.\n",
        "    \n",
        "    Returns:\n",
        "        float: Accuracy of the predictions, returned as a percentage.\n",
        "    \"\"\"    \n",
        "    n_samples = len(predictions)\n",
        "    \n",
        "    return np.sum(\n",
        "        [np.abs(predictions[x]-true_labels[x]) < 0.1 for x in range(n_samples)\n",
        "    ]) / n_samples"
      ],
      "metadata": {
        "id": "xh0VDpMmk19R"
      },
      "execution_count": 68,
      "outputs": []
    },
    {
      "cell_type": "code",
      "source": [
        "loss = make_loss_function(train_inputs, train_expected_outputs, timestep_output)"
      ],
      "metadata": {
        "id": "NZVdxjTAkjqe"
      },
      "execution_count": 69,
      "outputs": []
    },
    {
      "cell_type": "code",
      "source": [
        "gradient_function = qml.grad(timestep_output)"
      ],
      "metadata": {
        "id": "USugvkQTu6JY"
      },
      "execution_count": 70,
      "outputs": []
    },
    {
      "cell_type": "code",
      "source": [
        "prev_state"
      ],
      "metadata": {
        "colab": {
          "base_uri": "https://localhost:8080/"
        },
        "id": "fUDkCpUA-vHU",
        "outputId": "e0614009-d1d2-4b2c-a133-7502bcdec11d"
      },
      "execution_count": 71,
      "outputs": [
        {
          "output_type": "execute_result",
          "data": {
            "text/plain": [
              "tensor([0., 0., 0., 0., 0., 0., 0., 0., 0., 0., 0., 0.], requires_grad=False)"
            ]
          },
          "metadata": {},
          "execution_count": 71
        }
      ]
    },
    {
      "cell_type": "code",
      "source": [
        "# tune this parameter!\n",
        "opt = qml.GradientDescentOptimizer(stepsize=0.1)\n",
        "\n",
        "n_its = 100\n",
        "\n",
        "loss_track = []\n",
        "\n",
        "# weights = [alpha_array, beta_array, gamma_array, c]\n",
        "# weights = np.array([alpha_array, beta_array, gamma_array, c], requires_grad=True).tolist()\n",
        "\n",
        "for it in range(n_its):\n",
        "    # weights, _loss = opt.step_and_cost(loss, weights)\n",
        "    # Add c as a trainable parameter\n",
        "    (alpha_array, beta_array, gamma_array, c, prev_state, is_First_Iteration), _loss = opt.step_and_cost(loss, alpha_array, beta_array, gamma_array, c, prev_state, is_First_Iteration)\n",
        "\n",
        "    if it % 5 == 0:\n",
        "        #our_preds = make_predictions(train_inputs, timestep_output, weights)\n",
        "        our_preds = make_predictions(train_inputs, timestep_output, alpha_array, beta_array, gamma_array, c, prev_state, is_First_Iteration)\n",
        "        print(f\"Loss at iteration {it} = {_loss}  Accuracy = {compute_accuracy(our_preds, train_expected_outputs)}\")\n",
        "    loss_track.append(_loss)"
      ],
      "metadata": {
        "colab": {
          "base_uri": "https://localhost:8080/"
        },
        "id": "XO1nioiRkf51",
        "outputId": "27120e73-be50-4283-eb62-5bee64fde894"
      },
      "execution_count": 76,
      "outputs": [
        {
          "output_type": "stream",
          "name": "stdout",
          "text": [
            "Loss at iteration 0 = 0.32006361608680867  Accuracy = 0.14\n",
            "Loss at iteration 5 = 0.19437252092302618  Accuracy = 0.16\n",
            "Loss at iteration 10 = 0.15290543887007912  Accuracy = 0.17\n",
            "Loss at iteration 15 = 0.13318605413178605  Accuracy = 0.16\n",
            "Loss at iteration 20 = 0.12152205742441584  Accuracy = 0.18\n",
            "Loss at iteration 25 = 0.11364188807106883  Accuracy = 0.17\n",
            "Loss at iteration 30 = 0.10785939096072834  Accuracy = 0.18\n",
            "Loss at iteration 35 = 0.10338719876203062  Accuracy = 0.18\n",
            "Loss at iteration 40 = 0.09980704367824683  Accuracy = 0.19\n",
            "Loss at iteration 45 = 0.0968723267307651  Accuracy = 0.19\n",
            "Loss at iteration 50 = 0.0944245116258568  Accuracy = 0.2\n",
            "Loss at iteration 55 = 0.09235403632785885  Accuracy = 0.19\n",
            "Loss at iteration 60 = 0.09058052297643143  Accuracy = 0.19\n",
            "Loss at iteration 65 = 0.08904206663822123  Accuracy = 0.19\n",
            "Loss at iteration 70 = 0.08768908746987644  Accuracy = 0.2\n",
            "Loss at iteration 75 = 0.08648060556390398  Accuracy = 0.2\n",
            "Loss at iteration 80 = 0.08538186336911269  Accuracy = 0.2\n",
            "Loss at iteration 85 = 0.08436272977547525  Accuracy = 0.2\n",
            "Loss at iteration 90 = 0.08339657654141862  Accuracy = 0.2\n",
            "Loss at iteration 95 = 0.08245945305216987  Accuracy = 0.2\n"
          ]
        }
      ]
    },
    {
      "cell_type": "code",
      "source": [
        "plt.plot(train_expected_outputs)\n",
        "plt.plot(our_preds)"
      ],
      "metadata": {
        "colab": {
          "base_uri": "https://localhost:8080/",
          "height": 282
        },
        "id": "Voh3wClz1TFv",
        "outputId": "b0aa7cb2-95a7-4d2b-9d55-e3560f234300"
      },
      "execution_count": 77,
      "outputs": [
        {
          "output_type": "execute_result",
          "data": {
            "text/plain": [
              "[<matplotlib.lines.Line2D at 0x7f6755288970>]"
            ]
          },
          "metadata": {},
          "execution_count": 77
        },
        {
          "output_type": "display_data",
          "data": {
            "text/plain": [
              "<Figure size 432x288 with 1 Axes>"
            ],
            "image/png": "[encoded data removed]"
          },
          "metadata": {
            "needs_background": "light"
          }
        }
      ]
    },
    {
      "cell_type": "code",
      "source": [
        "c"
      ],
      "metadata": {
        "id": "sA2sM63utRE1",
        "colab": {
          "base_uri": "https://localhost:8080/"
        },
        "outputId": "529ce88f-4b56-4937-c1a1-3f37b5902b4e"
      },
      "execution_count": 78,
      "outputs": [
        {
          "output_type": "execute_result",
          "data": {
            "text/plain": [
              "tensor(0.27448416, requires_grad=True)"
            ]
          },
          "metadata": {},
          "execution_count": 78
        }
      ]
    },
    {
      "cell_type": "code",
      "source": [
        "# weights = np.random.normal(size=(2, 3), requires_grad=True)\n",
        "weights = np.array([alpha_array, beta_array, gamma_array, c], requires_grad=True).tolist()\n",
        "weights"
      ],
      "metadata": {
        "id": "Z5nOMbAMtZ8Z",
        "colab": {
          "base_uri": "https://localhost:8080/"
        },
        "outputId": "e1c02ff2-de05-4dcc-9533-a1f2f4a05d88"
      },
      "execution_count": 79,
      "outputs": [
        {
          "output_type": "stream",
          "name": "stderr",
          "text": [
            "/usr/local/lib/python3.9/dist-packages/autograd/numpy/numpy_wrapper.py:77: VisibleDeprecationWarning: Creating an ndarray from ragged nested sequences (which is a list-or-tuple of lists-or-tuples-or ndarrays with different lengths or shapes) is deprecated. If you meant to do this, you must specify 'dtype=object' when creating the ndarray.\n",
            "  return _np.array(args, *array_args, **array_kwargs)\n"
          ]
        },
        {
          "output_type": "execute_result",
          "data": {
            "text/plain": [
              "[array([[ 0.15634256,  0.59661294, -0.02111716,  0.57026653,  0.79708679,\n",
              "          0.60062598],\n",
              "        [ 0.73207787,  0.806465  ,  0.40690105,  0.62580595,  0.55368688,\n",
              "          0.324668  ],\n",
              "        [ 0.12706062,  0.84230785,  0.38370028,  0.22256037,  0.3916795 ,\n",
              "          0.71787136]]),\n",
              " array([[0.95561752, 1.09364412, 0.35523035, 0.52312028, 0.21748917,\n",
              "         0.51085132],\n",
              "        [0.07948489, 0.81582086, 0.36945563, 0.33566481, 0.94546314,\n",
              "         0.21337947],\n",
              "        [0.20648739, 0.49657897, 0.82724668, 0.04210303, 0.7119047 ,\n",
              "         0.05289276]]),\n",
              " array([[0.30971562, 0.76787862, 0.32679222, 0.97409663, 0.88088791,\n",
              "         0.84241184],\n",
              "        [0.31713453, 0.33924996, 0.04970091, 0.42309529, 0.68439248,\n",
              "         0.37491977],\n",
              "        [0.78173821, 1.20597218, 0.6240106 , 0.78181412, 0.91282262,\n",
              "         0.6951284 ]]),\n",
              " array(0.27448416)]"
            ]
          },
          "metadata": {},
          "execution_count": 79
        }
      ]
    }
  ]
}