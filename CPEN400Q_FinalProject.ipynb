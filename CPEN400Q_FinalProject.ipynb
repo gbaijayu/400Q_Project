{
  "cells": [
    {
      "cell_type": "code",
      "execution_count": 1,
      "metadata": {
        "colab": {
          "base_uri": "https://localhost:8080/"
        },
        "id": "6glPk7xSCeb0",
        "outputId": "402fc8df-fa3f-468e-bd9c-7256927e2b6d"
      },
      "outputs": [
        {
          "output_type": "stream",
          "name": "stdout",
          "text": [
            "Looking in indexes: https://pypi.org/simple, https://us-python.pkg.dev/colab-wheels/public/simple/\n",
            "Requirement already satisfied: pennylane in /usr/local/lib/python3.9/dist-packages (0.29.1)\n",
            "Requirement already satisfied: retworkx in /usr/local/lib/python3.9/dist-packages (from pennylane) (0.12.1)\n",
            "Requirement already satisfied: networkx in /usr/local/lib/python3.9/dist-packages (from pennylane) (3.0)\n",
            "Requirement already satisfied: scipy in /usr/local/lib/python3.9/dist-packages (from pennylane) (1.10.1)\n",
            "Requirement already satisfied: appdirs in /usr/local/lib/python3.9/dist-packages (from pennylane) (1.4.4)\n",
            "Requirement already satisfied: autograd in /usr/local/lib/python3.9/dist-packages (from pennylane) (1.5)\n",
            "Requirement already satisfied: autoray>=0.3.1 in /usr/local/lib/python3.9/dist-packages (from pennylane) (0.6.1)\n",
            "Requirement already satisfied: numpy<1.24 in /usr/local/lib/python3.9/dist-packages (from pennylane) (1.22.4)\n",
            "Requirement already satisfied: semantic-version>=2.7 in /usr/local/lib/python3.9/dist-packages (from pennylane) (2.10.0)\n",
            "Requirement already satisfied: toml in /usr/local/lib/python3.9/dist-packages (from pennylane) (0.10.2)\n",
            "Requirement already satisfied: cachetools in /usr/local/lib/python3.9/dist-packages (from pennylane) (5.3.0)\n",
            "Requirement already satisfied: pennylane-lightning>=0.28 in /usr/local/lib/python3.9/dist-packages (from pennylane) (0.29.0)\n",
            "Requirement already satisfied: requests in /usr/local/lib/python3.9/dist-packages (from pennylane) (2.25.1)\n",
            "Requirement already satisfied: future>=0.15.2 in /usr/local/lib/python3.9/dist-packages (from autograd->pennylane) (0.16.0)\n",
            "Requirement already satisfied: chardet<5,>=3.0.2 in /usr/local/lib/python3.9/dist-packages (from requests->pennylane) (4.0.0)\n",
            "Requirement already satisfied: urllib3<1.27,>=1.21.1 in /usr/local/lib/python3.9/dist-packages (from requests->pennylane) (1.26.14)\n",
            "Requirement already satisfied: idna<3,>=2.5 in /usr/local/lib/python3.9/dist-packages (from requests->pennylane) (2.10)\n",
            "Requirement already satisfied: certifi>=2017.4.17 in /usr/local/lib/python3.9/dist-packages (from requests->pennylane) (2022.12.7)\n",
            "Requirement already satisfied: rustworkx==0.12.1 in /usr/local/lib/python3.9/dist-packages (from retworkx->pennylane) (0.12.1)\n",
            "Looking in indexes: https://pypi.org/simple, https://us-python.pkg.dev/colab-wheels/public/simple/\n",
            "Requirement already satisfied: matplotlib in /usr/local/lib/python3.9/dist-packages (3.5.3)\n",
            "Requirement already satisfied: cycler>=0.10 in /usr/local/lib/python3.9/dist-packages (from matplotlib) (0.11.0)\n",
            "Requirement already satisfied: numpy>=1.17 in /usr/local/lib/python3.9/dist-packages (from matplotlib) (1.22.4)\n",
            "Requirement already satisfied: pyparsing>=2.2.1 in /usr/local/lib/python3.9/dist-packages (from matplotlib) (3.0.9)\n",
            "Requirement already satisfied: packaging>=20.0 in /usr/local/lib/python3.9/dist-packages (from matplotlib) (23.0)\n",
            "Requirement already satisfied: python-dateutil>=2.7 in /usr/local/lib/python3.9/dist-packages (from matplotlib) (2.8.2)\n",
            "Requirement already satisfied: fonttools>=4.22.0 in /usr/local/lib/python3.9/dist-packages (from matplotlib) (4.39.0)\n",
            "Requirement already satisfied: kiwisolver>=1.0.1 in /usr/local/lib/python3.9/dist-packages (from matplotlib) (1.4.4)\n",
            "Requirement already satisfied: pillow>=6.2.0 in /usr/local/lib/python3.9/dist-packages (from matplotlib) (8.4.0)\n",
            "Requirement already satisfied: six>=1.5 in /usr/local/lib/python3.9/dist-packages (from python-dateutil>=2.7->matplotlib) (1.15.0)\n"
          ]
        }
      ],
      "source": [
        "!pip install pennylane\n",
        "import pennylane as qml\n",
        "from pennylane import numpy as np\n",
        "\n",
        "!pip install matplotlib\n",
        "import matplotlib.pyplot as plt"
      ]
    },
    {
      "cell_type": "code",
      "execution_count": 2,
      "metadata": {
        "id": "lqbn2jUqsPc_"
      },
      "outputs": [],
      "source": [
        "# wires 0,1,2 are group B (input training data)\n",
        "# wires 3,4,5 are group A (store past data)\n",
        "\n",
        "# initialize a, J values (stays same throughout trainig)\n",
        "a = []\n",
        "J = np.zeros((6, 6))\n",
        "for i in range(6):\n",
        "  a.append( np.random.uniform(-1.0, 1.0) )\n",
        "  for j in range(i):\n",
        "    J[i][j] = np.random.uniform(-1.0, 1.0)\n",
        "\n",
        "# calculate Hint\n",
        "coeffs = []\n",
        "obs = []\n",
        "for j in range(6):\n",
        "    coeffs.append(a[j])\n",
        "    obs.append(qml.PauliX(j))\n",
        "    for k in range(j):\n",
        "      coeffs.append(J[j][k])\n",
        "      obs.append(qml.PauliZ(j) @ qml.PauliZ(k))\n",
        "Hint = qml.Hamiltonian(coeffs, obs) "
      ]
    },
    {
      "cell_type": "code",
      "execution_count": 3,
      "metadata": {
        "colab": {
          "base_uri": "https://localhost:8080/"
        },
        "id": "k-m9Tfjosap4",
        "outputId": "31466c0a-8a30-4d6d-91a2-dc4b643be431"
      },
      "outputs": [
        {
          "output_type": "stream",
          "name": "stdout",
          "text": [
            "  (-0.8911429379371856) [X3]\n",
            "+ (-0.8649817855057882) [X4]\n",
            "+ (-0.6304491609565321) [X1]\n",
            "+ (-0.5733727624144553) [X5]\n",
            "+ (-0.0101959816449948) [X2]\n",
            "+ (0.8720064050823411) [X0]\n",
            "+ (-0.8457764983703122) [Z2 Z1]\n",
            "+ (-0.735218334335086) [Z1 Z0]\n",
            "+ (-0.5725189430813233) [Z3 Z0]\n",
            "+ (-0.4725146591017495) [Z3 Z1]\n",
            "+ (-0.3635698355872854) [Z2 Z0]\n",
            "+ (-0.36174504806930363) [Z5 Z4]\n",
            "+ (-0.2598426235452094) [Z5 Z0]\n",
            "+ (-0.08909580448342824) [Z5 Z3]\n",
            "+ (0.08443700389638731) [Z3 Z2]\n",
            "+ (0.19855102926997992) [Z4 Z1]\n",
            "+ (0.24113188754520753) [Z4 Z0]\n",
            "+ (0.3849583748019245) [Z4 Z2]\n",
            "+ (0.4632765038535718) [Z4 Z3]\n",
            "+ (0.5308344444960023) [Z5 Z1]\n",
            "+ (0.6790915929765431) [Z5 Z2]\n"
          ]
        }
      ],
      "source": [
        "print(Hint)"
      ]
    },
    {
      "cell_type": "code",
      "execution_count": 4,
      "metadata": {
        "id": "p752g5IR5N4R"
      },
      "outputs": [],
      "source": [
        "# is_First_Iteration = 1\n",
        "\n",
        "# prev_state = np.zeros(12) # Jason: idk what to initialize this as for now? lol"
      ]
    },
    {
      "cell_type": "code",
      "execution_count": 5,
      "metadata": {
        "colab": {
          "base_uri": "https://localhost:8080/",
          "height": 553
        },
        "id": "mPBBhZUvDXz1",
        "outputId": "84d962d8-9343-4834-aa49-beb7c11ff2ec"
      },
      "outputs": [
        {
          "output_type": "stream",
          "name": "stdout",
          "text": [
            "(<Figure size 1152x504 with 1 Axes>, <Axes:>)\n"
          ]
        },
        {
          "output_type": "display_data",
          "data": {
            "text/plain": [
              "<Figure size 1152x504 with 1 Axes>"
            ],
            "image/png": "[encoded data removed]"
          },
          "metadata": {}
        }
      ],
      "source": [
        "from pennylane.math.utils import requires_grad\n",
        "# dev = qml.device(\"default.qubit\", wires=6)\n",
        "# dev1 = qml.device(\"default.qubit\", wires=9)\n",
        "# dev2 = qml.device(\"default.qubit\", wires=9)\n",
        "\n",
        "dev1 = qml.device(\"default.mixed\", wires=6)\n",
        "dev2 = qml.device(\"default.mixed\", wires=6)\n",
        "\n",
        "# wires 0,1,2 are group B (input training data)\n",
        "# wires 3,4,5 are group A (store past data)\n",
        "\n",
        "# initialize a, J values (stays same throughout trainig)\n",
        "a = []\n",
        "J = np.zeros((6, 6))\n",
        "for i in range(6):\n",
        "  a.append( np.random.uniform(-1.0, 1.0) )\n",
        "  for j in range(i):\n",
        "    J[i][j] = np.random.uniform(-1.0, 1.0)\n",
        "\n",
        "# calculate Hint\n",
        "coeffs = []\n",
        "obs = []\n",
        "for j in range(6):\n",
        "    coeffs.append(a[j])\n",
        "    obs.append(qml.PauliX(j))\n",
        "    for k in range(j):\n",
        "      coeffs.append(J[j][k])\n",
        "      obs.append(qml.PauliZ(j) @ qml.PauliZ(k))\n",
        "Hint = qml.Hamiltonian(coeffs, obs) \n",
        "# some fixed values (as specified in paper)\n",
        "D = 3\n",
        "tau = 0.2\n",
        "\n",
        "is_First_Iteration = np.array(1, requires_grad=False)\n",
        "\n",
        "prev_state = np.zeros(12, requires_grad=False) # Jason: idk what to initialize this as for now? lol\n",
        "\n",
        "# Parameters\n",
        "alpha_array = np.zeros((D, 6))\n",
        "beta_array  = np.zeros((D, 6))\n",
        "gamma_array = np.zeros((D, 6))\n",
        "#alpha_array = np.random.rand(D, 6)\n",
        "#beta_array  = np.random.rand(D, 6)\n",
        "#gamma_array = np.random.rand(D, 6)\n",
        "c = np.asarray(1.0)\n",
        "\n",
        "def encoding(x):\n",
        "    qml.RY(np.arccos(x), wires=0)\n",
        "    qml.RY(np.arccos(x), wires=1)\n",
        "    qml.RY(np.arccos(x), wires=2)\n",
        "\n",
        "def U1(alpha, beta, gamma, wire):\n",
        "     qml.RX(alpha, wires=wire)\n",
        "     qml.RZ(beta, wires=wire)\n",
        "     qml.RX(gamma, wires=wire)\n",
        "\n",
        "def evolution(alpha_array, beta_array, gamma_array):\n",
        "    for i in range (D): # D = 3\n",
        "        # U1 rotations\n",
        "        for j in range(6):\n",
        "            U1(alpha_array[i][j], beta_array[i][j], gamma_array[i][j], j)\n",
        "\n",
        "        # np.exp(-1.0*j * Hint * tau) # e^(-i Hint tau)\n",
        "        #change third paramter (larger is more accurate)\n",
        "        qml.ApproxTimeEvolution(Hint, tau, 1)\n",
        "\n",
        "@qml.qnode(dev1)\n",
        "def pqc_expval(x, alpha_array, beta_array, gamma_array, prev_state, is_First_Iteration):\n",
        "\n",
        "    if (is_First_Iteration == 0):\n",
        "        # qml.MottonenStatePreparation(state_vector=prev_state, wires=range(6))\n",
        "        qml.QubitDensityMatrix(state_vector=prev_state, wires=[3,4,5])\n",
        "\n",
        "    # prev_state = np.zeros(12)\n",
        "    if (is_First_Iteration == 1):\n",
        "        is_First_Iteration = 0\n",
        "       \n",
        "    # qml.SWAP(wires=[0,6])\n",
        "    # qml.SWAP(wires=[1,7])\n",
        "    # qml.SWAP(wires=[2,8])\n",
        "\n",
        "    encoding(x)\n",
        "    evolution(alpha_array, beta_array, gamma_array)\n",
        "    \n",
        "    # prev_state = qml.state()\n",
        "    # print(\"prev_state: \", prev_state)\n",
        "\n",
        "    # will qml.state() collapse wires before qml.expval returns?\n",
        "\n",
        "    return [qml.expval(qml.PauliZ(i)) for i in range(3)]\n",
        "    # return qml.state()\n",
        "\n",
        "@qml.qnode(dev2)\n",
        "def pqc_state(x, alpha_array, beta_array, gamma_array, prev_state, is_First_Iteration):\n",
        "\n",
        "    if (is_First_Iteration == 0):\n",
        "        # qml.MottonenStatePreparation(state_vector=prev_state, wires=range(6))\n",
        "        qml.QubitDensityMatrix(state_vector=prev_state, wires=[3,4,5])\n",
        "\n",
        "    # prev_state = np.zeros(12)\n",
        "    if (is_First_Iteration == 1):\n",
        "        is_First_Iteration = 0\n",
        "       \n",
        "    # qml.SWAP(wires=[0,6])\n",
        "    # qml.SWAP(wires=[1,7])\n",
        "    # qml.SWAP(wires=[2,8])\n",
        "\n",
        "    encoding(x)\n",
        "    evolution(alpha_array, beta_array, gamma_array)\n",
        "    \n",
        "    # prev_state = qml.state()\n",
        "    # print(\"prev_state: \", prev_state)\n",
        "\n",
        "    # will qml.state() collapse wires before qml.expval returns?\n",
        "\n",
        "    # return [qml.expval(qml.PauliZ(i)) for i in range(3)], qml.state()\n",
        "    # return qml.state()\n",
        "    return qml.density_matrix(wires=[3,4,5])\n",
        "\n",
        "#def timestep_output(x, weights):\n",
        "def timestep_output(x, alpha_array, beta_array, gamma_array, c, prev_state, is_First_Iteration):\n",
        "# def timestep_output(x, alpha_array, beta_array, gamma_array, c):\n",
        "    \n",
        "    # print(qml.draw_mpl(pqc)(0.5))\n",
        "    #result = pqc(x, weights[0], weights[1], weights[2])\n",
        "    result = pqc_expval(x, alpha_array, beta_array, gamma_array, prev_state, is_First_Iteration)\n",
        "    prev_state = pqc_state(x, alpha_array, beta_array, gamma_array, prev_state, is_First_Iteration)\n",
        "\n",
        "    # print(\"Output of pqc: \", result)\n",
        "    # print(\"Type of pqc: \", result[0])\n",
        "    \n",
        "    # y = c * np.average(result)\n",
        "    y = c * (( result[0] + result[1] + result[2] ) / 3.0)\n",
        "    # print(\"Output of each timestep: \", y)\n",
        "\n",
        "    return y\n",
        "\n",
        "timestep_output(0.7, alpha_array, beta_array, gamma_array, c, prev_state, is_First_Iteration)\n",
        "# timestep_output(0.7, alpha_array, beta_array, gamma_array)\n",
        "print(qml.draw_mpl(pqc_expval)(0.5, alpha_array, beta_array, gamma_array, prev_state, is_First_Iteration))\n",
        "\n",
        "# print(qml.draw_mpl(pqc)(0.5, 1))\n",
        "\n",
        "### random code ideas, unused\n",
        "\n",
        "# expval1 = qml.expval(qml.PauliZ(0))\n",
        "# expval2 = qml.expval(qml.PauliZ(1))\n",
        "# expval3 = qml.expval(qml.PauliZ(2))\n",
        "\n",
        "# avg = (expval1 + expval2 + expval3) / 3.0\n",
        "\n",
        "# print([expval1.eigvals(), expval2.eigvals(), expval3.eigvals()])\n",
        "\n",
        "# return c * avg\n",
        "# return expval1, expval2, expval3"
      ]
    },
    {
      "cell_type": "code",
      "execution_count": 6,
      "metadata": {
        "colab": {
          "base_uri": "https://localhost:8080/"
        },
        "id": "bYsODeDl-ZkB",
        "outputId": "2e7df62c-60d2-4c56-d2c2-c1d904fc24fd"
      },
      "outputs": [
        {
          "output_type": "execute_result",
          "data": {
            "text/plain": [
              "tensor([0., 0., 0., 0., 0., 0., 0., 0., 0., 0., 0., 0.], requires_grad=False)"
            ]
          },
          "metadata": {},
          "execution_count": 6
        }
      ],
      "source": [
        "prev_state"
      ]
    },
    {
      "cell_type": "code",
      "execution_count": 7,
      "metadata": {
        "colab": {
          "base_uri": "https://localhost:8080/"
        },
        "id": "1Qyy_PAMvSIq",
        "outputId": "36422cfa-a4f0-4a99-d823-5d9f85301772"
      },
      "outputs": [
        {
          "output_type": "execute_result",
          "data": {
            "text/plain": [
              "tensor(0.55811274, requires_grad=True)"
            ]
          },
          "metadata": {},
          "execution_count": 7
        }
      ],
      "source": [
        "timestep_output(0.7, alpha_array, beta_array, gamma_array, c, prev_state, is_First_Iteration)"
      ]
    },
    {
      "cell_type": "code",
      "execution_count": 8,
      "metadata": {
        "colab": {
          "base_uri": "https://localhost:8080/"
        },
        "id": "8DxSFn92tvZ0",
        "outputId": "fb6b50f9-a9ea-411e-f4aa-9e2fc9a89df0"
      },
      "outputs": [
        {
          "output_type": "execute_result",
          "data": {
            "text/plain": [
              "99"
            ]
          },
          "metadata": {},
          "execution_count": 8
        }
      ],
      "source": [
        "# what is this for again?\n",
        "len(pqc_expval.qtape.trainable_params)"
      ]
    },
    {
      "cell_type": "code",
      "execution_count": 9,
      "metadata": {
        "colab": {
          "base_uri": "https://localhost:8080/",
          "height": 338
        },
        "id": "TaDLHRdPFsoc",
        "outputId": "6c2b361e-4e22-4acf-be1e-dbbcab1acac2"
      },
      "outputs": [
        {
          "output_type": "stream",
          "name": "stdout",
          "text": [
            "[0.5, 0.45979899497487436, 0.41959798994974873, 0.37939698492462315, 0.33919597989949746, 0.2989949748743719, 0.25879396984924624, 0.2185929648241206, 0.17839195979899497, 0.13819095477386933, 0.0979899497487437, 0.05778894472361806, 0.017587939698492483, -0.022613065326633208, -0.06281407035175879, -0.10301507537688448, -0.14321608040201006, -0.18341708542713564, -0.22361809045226133, -0.2638190954773869, -0.3040201005025126, -0.3442211055276382, -0.3844221105527639, -0.42462311557788945, -0.46482412060301503, -0.4949748743718594, -0.4547738693467336, -0.414572864321608, -0.3743718592964824, -0.33417085427135684, -0.29396984924623104, -0.25376884422110546, -0.21356783919597988, -0.1733668341708543, -0.13316582914572872, -0.09296482412060292, -0.05276381909547734, -0.012562814070351758, 0.027638190954773822, 0.06783919597989962, 0.1080402010050252, 0.14824120603015079, 0.18844221105527637, 0.22864321608040195, 0.26884422110552775, 0.3090452261306533, 0.3492462311557789, 0.3894472361809045, 0.42964824120603007, 0.46984924623115587, 0.48994974874371877, 0.44974874371859297, 0.40954773869346717, 0.3693467336683418, 0.329145728643216, 0.2889447236180902, 0.24874371859296485, 0.20854271356783904, 0.16834170854271369, 0.12814070351758788, 0.08793969849246208, 0.047738693467336724, 0.007537688442210921, -0.03266331658291444, -0.07286432160804024, -0.11306532663316604, -0.1532663316582914, -0.1934673366834172, -0.23366834170854256, -0.27386934673366836, -0.31407035175879416, -0.3542713567839195, -0.3944723618090453, -0.4346733668341707, -0.4748743718592965, -0.4849246231155777, -0.44472361809045236, -0.40452261306532655, -0.36432160804020075, -0.3241206030150754, -0.2839195979899496, -0.24371859296482423, -0.20351758793969843, -0.16331658291457263, -0.12311557788944727, -0.08291457286432147, -0.04271356783919611, -0.002512562814070307, 0.037688442211055495, 0.07788944723618085, 0.11809045226130666, 0.158291457286432, 0.19849246231155782, 0.23869346733668362, 0.278894472361809, 0.3190954773869348, 0.35929648241206014, 0.39949748743718594, 0.43969849246231174, 0.4798994974874371]\n",
            "[0.45979899497487436, 0.41959798994974873, 0.37939698492462315, 0.33919597989949746, 0.2989949748743719, 0.25879396984924624, 0.2185929648241206, 0.17839195979899497, 0.13819095477386933, 0.0979899497487437, 0.05778894472361806, 0.017587939698492483, -0.022613065326633208, -0.06281407035175879, -0.10301507537688448, -0.14321608040201006, -0.18341708542713564, -0.22361809045226133, -0.2638190954773869, -0.3040201005025126, -0.3442211055276382, -0.3844221105527639, -0.42462311557788945, -0.46482412060301503, -0.4949748743718594, -0.4547738693467336, -0.414572864321608, -0.3743718592964824, -0.33417085427135684, -0.29396984924623104, -0.25376884422110546, -0.21356783919597988, -0.1733668341708543, -0.13316582914572872, -0.09296482412060292, -0.05276381909547734, -0.012562814070351758, 0.027638190954773822, 0.06783919597989962, 0.1080402010050252, 0.14824120603015079, 0.18844221105527637, 0.22864321608040195, 0.26884422110552775, 0.3090452261306533, 0.3492462311557789, 0.3894472361809045, 0.42964824120603007, 0.46984924623115587, 0.48994974874371877, 0.44974874371859297, 0.40954773869346717, 0.3693467336683418, 0.329145728643216, 0.2889447236180902, 0.24874371859296485, 0.20854271356783904, 0.16834170854271369, 0.12814070351758788, 0.08793969849246208, 0.047738693467336724, 0.007537688442210921, -0.03266331658291444, -0.07286432160804024, -0.11306532663316604, -0.1532663316582914, -0.1934673366834172, -0.23366834170854256, -0.27386934673366836, -0.31407035175879416, -0.3542713567839195, -0.3944723618090453, -0.4346733668341707, -0.4748743718592965, -0.4849246231155777, -0.44472361809045236, -0.40452261306532655, -0.36432160804020075, -0.3241206030150754, -0.2839195979899496, -0.24371859296482423, -0.20351758793969843, -0.16331658291457263, -0.12311557788944727, -0.08291457286432147, -0.04271356783919611, -0.002512562814070307, 0.037688442211055495, 0.07788944723618085, 0.11809045226130666, 0.158291457286432, 0.19849246231155782, 0.23869346733668362, 0.278894472361809, 0.3190954773869348, 0.35929648241206014, 0.39949748743718594, 0.43969849246231174, 0.4798994974874371, 0.5201005025125625]\n"
          ]
        },
        {
          "output_type": "execute_result",
          "data": {
            "text/plain": [
              "[<matplotlib.lines.Line2D at 0x7f9573195190>]"
            ]
          },
          "metadata": {},
          "execution_count": 9
        },
        {
          "output_type": "display_data",
          "data": {
            "text/plain": [
              "<Figure size 432x288 with 1 Axes>"
            ],
            "image/png": "[encoded data removed]"
          },
          "metadata": {
            "needs_background": "light"
          }
        }
      ],
      "source": [
        "def generate_input(t_in):\n",
        "    t = 8/199 * t_in\n",
        "    if t >= 0 and t <= 1:\n",
        "        return -t + 0.5\n",
        "    elif t >= 1 and t <= 2:\n",
        "        return t - 1.5\n",
        "    elif t >= 2 and t <= 3:\n",
        "        return -t + 2.5\n",
        "    else:\n",
        "        return t - 3.5\n",
        "\n",
        "train_inputs = []\n",
        "train_expected_outputs = []\n",
        "\n",
        "for i in range(100):\n",
        "    train_inputs.append(generate_input(i))\n",
        "    train_expected_outputs.append(generate_input(i+1))\n",
        "\n",
        "print(train_inputs)\n",
        "print(train_expected_outputs)\n",
        "plt.plot(train_inputs)\n",
        "plt.plot(train_expected_outputs)"
      ]
    },
    {
      "cell_type": "code",
      "execution_count": 10,
      "metadata": {
        "id": "xh0VDpMmk19R"
      },
      "outputs": [],
      "source": [
        "### Lecture 8 Demo helper functions\n",
        "\n",
        "#def make_predictions(data, model, weights):\n",
        "def make_predictions(data, model, alpha_array, beta_array, gamma_array, c, prev_state, is_First_Iteration):\n",
        "\n",
        "    \"\"\"Predict the labels of all points in a data set for a given model.\n",
        "    \n",
        "    Args:\n",
        "        data (array[float]): Input data. A list with shape N x 2\n",
        "            representing points on a 2D plane.\n",
        "        model (qml.QNode): A QNode whose output expectation value will be\n",
        "            used to make predictions of the labels of data.\n",
        "        weights (array[float]): The trainable model parameters for the QNode. \n",
        "            \n",
        "    Returns:\n",
        "        array[int]: The array of predictions for each data point made by \n",
        "        the model QNode. \n",
        "    \"\"\"\n",
        "    preds = []\n",
        "    \n",
        "    for idx in range(len(data)):\n",
        "        estimated_expval = model(data[idx], alpha_array, beta_array, gamma_array, c, prev_state, is_First_Iteration)\n",
        "        \n",
        "        preds.append(estimated_expval)\n",
        "            \n",
        "    return preds\n",
        "\n",
        "def make_loss_function(data, labels, model):\n",
        "\n",
        "    #def loss(weights):\n",
        "    def loss(alpha_array, beta_array, gamma_array, c, prev_state, is_First_Iteration):\n",
        "        loss_sum = 0.0\n",
        "\n",
        "        for idx in range(len(data)):\n",
        "            point = data[idx]\n",
        "            true_expval = labels[idx]\n",
        "\n",
        "            #estimated_expval = model(point, weights)\n",
        "            estimated_expval = model(point, alpha_array, beta_array, gamma_array, c, prev_state, is_First_Iteration)\n",
        "            loss_sum += (estimated_expval - true_expval) ** 2\n",
        "\n",
        "        return loss_sum / len(data)\n",
        "    \n",
        "    return loss\n",
        "\n",
        "def compute_accuracy(predictions, true_labels):\n",
        "    \"\"\"Compute the accuracy of our predictions.\n",
        "    \n",
        "    Args:\n",
        "        predictions (array[int]): Predicted values to \n",
        "        true_labels (array[int]): Integers identifying the class/label of \n",
        "            each data point.\n",
        "    \n",
        "    Returns:\n",
        "        float: Accuracy of the predictions, returned as a percentage.\n",
        "    \"\"\"    \n",
        "    n_samples = len(predictions)\n",
        "    \n",
        "    return np.sum(\n",
        "        [np.abs(predictions[x]-true_labels[x]) < 0.1 for x in range(n_samples)\n",
        "    ]) / n_samples"
      ]
    },
    {
      "cell_type": "code",
      "execution_count": 11,
      "metadata": {
        "id": "NZVdxjTAkjqe"
      },
      "outputs": [],
      "source": [
        "loss = make_loss_function(train_inputs, train_expected_outputs, timestep_output)"
      ]
    },
    {
      "cell_type": "code",
      "execution_count": 12,
      "metadata": {
        "id": "USugvkQTu6JY"
      },
      "outputs": [],
      "source": [
        "gradient_function = qml.grad(timestep_output)"
      ]
    },
    {
      "cell_type": "code",
      "execution_count": 13,
      "metadata": {
        "colab": {
          "base_uri": "https://localhost:8080/"
        },
        "id": "fUDkCpUA-vHU",
        "outputId": "5de906d6-2f68-4f5c-cefc-e7bd8e9f8cd6"
      },
      "outputs": [
        {
          "output_type": "execute_result",
          "data": {
            "text/plain": [
              "tensor([0., 0., 0., 0., 0., 0., 0., 0., 0., 0., 0., 0.], requires_grad=False)"
            ]
          },
          "metadata": {},
          "execution_count": 13
        }
      ],
      "source": [
        "prev_state"
      ]
    },
    {
      "cell_type": "code",
      "execution_count": 14,
      "metadata": {
        "colab": {
          "base_uri": "https://localhost:8080/"
        },
        "id": "XO1nioiRkf51",
        "outputId": "b9b02fce-6c9d-4c31-f06c-ff6cef7212f3"
      },
      "outputs": [
        {
          "output_type": "stream",
          "name": "stdout",
          "text": [
            "Loss at iteration 0 = 0.004720359070027903  Accuracy = 0.85\n",
            "Loss at iteration 5 = 0.003918179700239585  Accuracy = 0.88\n",
            "Loss at iteration 10 = 0.003344987150252527  Accuracy = 0.93\n",
            "Loss at iteration 15 = 0.0029278754780230486  Accuracy = 0.96\n",
            "Loss at iteration 20 = 0.0026193055271355463  Accuracy = 0.99\n",
            "Loss at iteration 25 = 0.0023876855238397355  Accuracy = 1.0\n",
            "Loss at iteration 30 = 0.002211625864226107  Accuracy = 1.0\n",
            "Loss at iteration 35 = 0.0020763694735323316  Accuracy = 1.0\n",
            "Loss at iteration 40 = 0.001971541600350347  Accuracy = 1.0\n",
            "Loss at iteration 45 = 0.0018897127274508472  Accuracy = 1.0\n",
            "Loss at iteration 50 = 0.0018254685365661411  Accuracy = 1.0\n",
            "Loss at iteration 55 = 0.0017747993212248445  Accuracy = 1.0\n",
            "Loss at iteration 60 = 0.0017346927388520506  Accuracy = 1.0\n",
            "Loss at iteration 65 = 0.0017028574768894625  Accuracy = 1.0\n",
            "Loss at iteration 70 = 0.0016775323075633617  Accuracy = 1.0\n",
            "Loss at iteration 75 = 0.0016573516685835102  Accuracy = 1.0\n",
            "Loss at iteration 80 = 0.001641249285614964  Accuracy = 1.0\n",
            "Loss at iteration 85 = 0.001628387856639785  Accuracy = 1.0\n",
            "Loss at iteration 90 = 0.0016181069249076266  Accuracy = 1.0\n",
            "Loss at iteration 95 = 0.0016098836836517755  Accuracy = 1.0\n"
          ]
        }
      ],
      "source": [
        "# tune this parameter!\n",
        "opt = qml.GradientDescentOptimizer(stepsize=0.1)\n",
        "\n",
        "n_its = 100\n",
        "\n",
        "loss_track = []\n",
        "\n",
        "# weights = [alpha_array, beta_array, gamma_array, c]\n",
        "# weights = np.array([alpha_array, beta_array, gamma_array, c], requires_grad=True).tolist()\n",
        "\n",
        "for it in range(n_its):\n",
        "    # weights, _loss = opt.step_and_cost(loss, weights)\n",
        "    # Add c as a trainable parameter\n",
        "    (alpha_array, beta_array, gamma_array, c, prev_state, is_First_Iteration), _loss = opt.step_and_cost(loss, alpha_array, beta_array, gamma_array, c, prev_state, is_First_Iteration)\n",
        "\n",
        "    if it % 5 == 0:\n",
        "        #our_preds = make_predictions(train_inputs, timestep_output, weights)\n",
        "        our_preds = make_predictions(train_inputs, timestep_output, alpha_array, beta_array, gamma_array, c, prev_state, is_First_Iteration)\n",
        "        print(f\"Loss at iteration {it} = {_loss}  Accuracy = {compute_accuracy(our_preds, train_expected_outputs)}\")\n",
        "    loss_track.append(_loss)"
      ]
    },
    {
      "cell_type": "code",
      "execution_count": 15,
      "metadata": {
        "colab": {
          "base_uri": "https://localhost:8080/",
          "height": 283
        },
        "id": "Voh3wClz1TFv",
        "outputId": "6aa5ddb7-ef7a-4723-edcb-9cc3c75957dc"
      },
      "outputs": [
        {
          "data": {
            "text/plain": [
              "[<matplotlib.lines.Line2D at 0x7f9569ae83d0>]"
            ]
          },
          "execution_count": 15,
          "metadata": {},
          "output_type": "execute_result"
        },
        {
          "output_type": "display_data",
          "data": {
            "text/plain": [
              "<Figure size 432x288 with 1 Axes>"
            ],
            "image/png": "[encoded data removed]"
          },
          "metadata": {
            "needs_background": "light"
          }
        }
      ],
      "source": [
        "plt.plot(train_expected_outputs)\n",
        "plt.plot(our_preds)"
      ]
    },
    {
      "cell_type": "code",
      "execution_count": 16,
      "metadata": {
        "colab": {
          "base_uri": "https://localhost:8080/"
        },
        "id": "sA2sM63utRE1",
        "outputId": "841b363f-6d40-4341-c4fe-6ff7d6ad4852"
      },
      "outputs": [
        {
          "output_type": "execute_result",
          "data": {
            "text/plain": [
              "tensor(1.09584023, requires_grad=True)"
            ]
          },
          "metadata": {},
          "execution_count": 16
        }
      ],
      "source": [
        "c"
      ]
    },
    {
      "cell_type": "code",
      "execution_count": 17,
      "metadata": {
        "colab": {
          "base_uri": "https://localhost:8080/"
        },
        "id": "Z5nOMbAMtZ8Z",
        "outputId": "4c74dc9d-2b16-4fad-a7b0-61e55b1af291"
      },
      "outputs": [
        {
          "output_type": "stream",
          "name": "stderr",
          "text": [
            "/usr/local/lib/python3.9/dist-packages/autograd/numpy/numpy_wrapper.py:77: VisibleDeprecationWarning: Creating an ndarray from ragged nested sequences (which is a list-or-tuple of lists-or-tuples-or ndarrays with different lengths or shapes) is deprecated. If you meant to do this, you must specify 'dtype=object' when creating the ndarray.\n",
            "  return _np.array(args, *array_args, **array_kwargs)\n"
          ]
        },
        {
          "output_type": "execute_result",
          "data": {
            "text/plain": [
              "[array([[-2.58640620e-02,  3.22587927e-03, -1.89661948e-02,\n",
              "          1.96284510e-03,  2.30031415e-03,  5.99906082e-04],\n",
              "        [-2.98825459e-02, -1.08014352e-02, -2.22469266e-02,\n",
              "          9.38421715e-04,  1.17693724e-03,  2.98430591e-04],\n",
              "        [-3.30365703e-02, -2.01022162e-02, -2.51553535e-02,\n",
              "         -2.42502582e-19,  3.88180901e-20, -2.37965398e-20]]),\n",
              " array([[ 2.29643719e-02, -2.20140393e-03,  1.71166093e-02,\n",
              "          1.56210608e-07,  2.72425374e-07,  1.62747703e-08],\n",
              "        [ 1.50083571e-02, -1.46634989e-03,  1.18039995e-02,\n",
              "          4.54427923e-05, -7.05343490e-05,  6.12327522e-06],\n",
              "        [ 7.24352509e-03, -5.69863485e-04,  5.96242350e-03,\n",
              "         -1.76416281e-20,  2.83641060e-20,  3.75053896e-21]]),\n",
              " array([[-2.55292962e-02,  3.19652602e-03, -1.87370228e-02,\n",
              "          1.96284510e-03,  2.30031413e-03,  5.99906082e-04],\n",
              "        [-2.96660451e-02, -1.08196872e-02, -2.20658269e-02,\n",
              "          9.38425385e-04,  1.17693056e-03,  2.98430733e-04],\n",
              "        [-3.29421648e-02, -2.01070185e-02, -2.50632131e-02,\n",
              "         -2.58458742e-19,  3.34456202e-20, -1.28692500e-19]]),\n",
              " array(1.09584023)]"
            ]
          },
          "metadata": {},
          "execution_count": 17
        }
      ],
      "source": [
        "# weights = np.random.normal(size=(2, 3), requires_grad=True)\n",
        "weights = np.array([alpha_array, beta_array, gamma_array, c], requires_grad=True).tolist()\n",
        "weights"
      ]
    }
  ],
  "metadata": {
    "colab": {
      "provenance": []
    },
    "kernelspec": {
      "display_name": "Python 3",
      "name": "python3"
    },
    "language_info": {
      "name": "python"
    }
  },
  "nbformat": 4,
  "nbformat_minor": 0
}